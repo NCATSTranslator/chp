{
"nbformat": 4,
  "nbformat_minor": 0,
  "metadata": {
    "colab": {
      "name": "curie_mapping.ipynb",
      "provenance": [],
      "mount_file_id": "1NzKgMP-He3hMaaYSDAEgwLJHpcHAQcqW",
      "authorship_tag": "ABX9TyPKfpIhsCs8xLO7UACjh1yY",
      "include_colab_link": true
    },
    "kernelspec": {
      "name": "python3",
      "display_name": "Python 3"
    }
  }
 "cells": [
  {
   "cell_type": "code",
   "execution_count": 1,
   "metadata": {},
   "outputs": [],
   "source": [
    "#-- Import necessary packages\n",
    "import os\n",
    "import pickle\n",
    "import tqdm\n",
    "from multiprocessing.dummy import Pool\n",
    "import time\n",
    "\n",
    "from biothings_explorer.hint import Hint"
   ]
  },
  {
   "cell_type": "markdown",
   "metadata": {},
   "source": [
    "## Step 1: Find representation of a patient gene in BTE\n",
    "\n",
    "In this step, BioThings Explorer translates our query string \"CACNA1H\"  into BioThings objects, which contain mappings to many common identifiers.  Generally, the top result returned by the `Hint` module will be the correct item, but you should confirm that using the identifiers shown.\n",
    "\n",
    "Search terms can correspond to any child of [BiologicalEntity](https://biolink.github.io/biolink-model/docs/BiologicalEntity.html) from the [Biolink Model](https://biolink.github.io/biolink-model/docs/), including `DiseaseOrPhenotypicFeature` (e.g., \"lupus\"), `ChemicalSubstance` (e.g., \"acetaminophen\"), `Gene` (e.g., \"CDK2\"), `BiologicalProcess` (e.g., \"T cell differentiation\"), and `Pathway` (e.g., \"Citric acid cycle\")."
   ]
  },
  {
   "cell_type": "code",
   "execution_count": 2,
   "metadata": {},
   "outputs": [],
   "source": [
    "ht = Hint()\n",
    "cacna1h = ht.query(\"CACNA1H\")"
   ]
  },
  {
   "cell_type": "markdown",
   "metadata": {},
   "source": [
    "The hint object will output results of the search into a few different biolink categories, i.e."
   ]
  },
  {
   "cell_type": "code",
   "execution_count": 3,
   "metadata": {},
   "outputs": [
    {
     "data": {
      "text/plain": [
       "['Gene',\n",
       " 'SequenceVariant',\n",
       " 'ChemicalSubstance',\n",
       " 'Disease',\n",
       " 'MolecularActivity',\n",
       " 'BiologicalProcess',\n",
       " 'CellularComponent',\n",
       " 'Pathway',\n",
       " 'AnatomicalEntity',\n",
       " 'PhenotypicFeature']"
      ]
     },
     "execution_count": 3,
     "metadata": {},
     "output_type": "execute_result"
    }
   ],
   "source": [
    "list(cacna1h.keys())"
   ]
  },
  {
   "cell_type": "markdown",
   "metadata": {},
   "source": [
    "Naturally, we care about the gene categories:"
   ]
  },
  {
   "cell_type": "code",
   "execution_count": 4,
   "metadata": {},
   "outputs": [
    {
     "data": {
      "text/plain": [
       "[{'NCBIGene': '8912',\n",
       "  'name': 'calcium voltage-gated channel subunit alpha1 H',\n",
       "  'SYMBOL': 'CACNA1H',\n",
       "  'UMLS': 'C1413062',\n",
       "  'HGNC': '1395',\n",
       "  'UNIPROTKB': 'O95180',\n",
       "  'ENSEMBL': 'ENSG00000196557',\n",
       "  'primary': {'identifier': 'NCBIGene', 'cls': 'Gene', 'value': '8912'},\n",
       "  'display': 'NCBIGene(8912) ENSEMBL(ENSG00000196557) HGNC(1395) UMLS(C1413062) UNIPROTKB(O95180) SYMBOL(CACNA1H)',\n",
       "  'type': 'Gene'}]"
      ]
     },
     "execution_count": 4,
     "metadata": {},
     "output_type": "execute_result"
    }
   ],
   "source": [
    "cacna1h['Gene']"
   ]
  },
  {
   "cell_type": "markdown",
   "metadata": {},
   "source": [
    "## Step 2: Import a patient data file and find curies for all supported genes. \n",
    "\n",
    "The general organization of the Connections Hypothesis Provider (CHP) is to ingest a TCGA dataset, e.g. Breast Cancer and created BKB Fragments and a patient_data.pk file that contains all patient data in a consistent format. In this section, we will read in a sample patient data file and find get the curies for all the genes that exist in this data file, i.e. supported by the CHP."
   ]
  },
  {
   "cell_type": "code",
   "execution_count": 5,
   "metadata": {},
   "outputs": [],
   "source": [
    "with open('data/patient_data.pk', 'rb') as f_:\n",
    "    patient_data = pickle.load(f_)"
   ]
  },
  {
   "cell_type": "markdown",
   "metadata": {},
   "source": [
    "Inspecting the patient data of a single patient (classified by a unique ID key) we see that there are 13 categories:"
   ]
  },
  {
   "cell_type": "code",
   "execution_count": 6,
   "metadata": {},
   "outputs": [
    {
     "data": {
      "text/plain": [
       "['Cancer_Type',\n",
       " 'Patient_Variants',\n",
       " 'Patient_Genes',\n",
       " 'Patient_Gene_Reads',\n",
       " 'Patient_ID',\n",
       " 'PathM',\n",
       " 'Age_of_Diagnosis',\n",
       " 'Drug_Name(s)',\n",
       " 'Gender',\n",
       " 'Survival_Time',\n",
       " 'PathN',\n",
       " 'Patient_Gene_Variants',\n",
       " 'PathT']"
      ]
     },
     "execution_count": 6,
     "metadata": {},
     "output_type": "execute_result"
    }
   ],
   "source": [
    "list(patient_data[list(patient_data.keys())[0]].keys())"
   ]
  },
  {
   "cell_type": "markdown",
   "metadata": {},
   "source": [
    "Now we'll collect all the genes and grab their associated curies using the BTE hint module."
   ]
  },
  {
   "cell_type": "code",
   "execution_count": 7,
   "metadata": {},
   "outputs": [],
   "source": [
    "genes = set()\n",
    "for patient_id, data in patient_data.items():\n",
    "    genes.update(data['Patient_Genes'])"
   ]
  },
  {
   "cell_type": "code",
   "execution_count": 8,
   "metadata": {},
   "outputs": [
    {
     "name": "stderr",
     "output_type": "stream",
     "text": [
      "                                               \r"
     ]
    }
   ],
   "source": [
    "gene_hints = {}\n",
    "for gene in tqdm.tqdm(list(genes)[:10], leave=False):\n",
    "    gene_ht = ht.query(gene)\n",
    "    if len(gene_ht['Gene']) == 0:\n",
    "        print(\"Couldn't find a hint for {}\".format(gene))\n",
    "    gene_hints[gene] = gene_ht['Gene']"
   ]
  },
  {
   "cell_type": "markdown",
   "metadata": {},
   "source": [
    "The code above only collects the hints for the first 10 genes in the set and takes about ~55 seconds to run. If we want to do this for ~15,000 genes it is going to take a while. Since, these requests are just API calls we can easily parrellize the execution. "
   ]
  },
  {
   "cell_type": "code",
   "execution_count": 9,
   "metadata": {},
   "outputs": [],
   "source": [
    "def getGeneHints(gene):\n",
    "    hint = Hint()\n",
    "    ht = hint.query(gene)\n",
    "    return {gene: ht['Gene']}"
   ]
  },
  {
   "cell_type": "code",
   "execution_count": 10,
   "metadata": {},
   "outputs": [
    {
     "name": "stdout",
     "output_type": "stream",
     "text": [
      "Pool time = 5.507285118103027\n"
     ]
    }
   ],
   "source": [
    "start_time = time.time()\n",
    "pool = Pool(10)\n",
    "async_resp = pool.map(getGeneHints, list(genes)[:10])\n",
    "pool.close()\n",
    "pool.join()\n",
    "print('Pool time = {}'.format(time.time() - start_time))"
   ]
  },
  {
   "cell_type": "code",
   "execution_count": 11,
   "metadata": {},
   "outputs": [],
   "source": [
    "#-- Collect gene hints into one dictionary\n",
    "gene_hints = {}\n",
    "for resp in async_resp:\n",
    "    gene_hints.update(resp)"
   ]
  },
  {
   "cell_type": "markdown",
   "metadata": {},
   "source": [
    "From these hints, we would like to make a mapping file, service or module so that we can injest a biolink CURIE (like what was found in the hints), and match that with the associated gene name in the Patient Data File. You may also have to tune the parrillize method so that you get a reasonable runtime with bogging things down too much.\n",
    "\n",
    "We would also like to do this for disease (in this case it is only breast cancer) and drugs. The process should be the same. Good luck!"
   ]
  }
 ],
 "metadata": {
  "kernelspec": {
   "display_name": "Python 3",
   "language": "python",
   "name": "python3"
  },
  "language_info": {
   "codemirror_mode": {
    "name": "ipython",
    "version": 3
   },
   "file_extension": ".py",
   "mimetype": "text/x-python",
   "name": "python",
   "nbconvert_exporter": "python",
   "pygments_lexer": "ipython3",
   "version": "3.5.2"
  }
 },
 "nbformat": 4,
 "nbformat_minor": 4
}
