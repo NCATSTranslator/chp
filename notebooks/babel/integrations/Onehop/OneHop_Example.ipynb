{
 "cells": [
  {
   "cell_type": "markdown",
   "metadata": {},
   "source": [
    "# Example Query for Survival Probability of 1-hop Queries\n",
    "\n",
    "Queries our system in the form of:<br>\n",
    "$P(survival\\_time > X | Drug)$<br>\n",
    "Returned is a knowledge graph containing genes that contributed strongly to the question of survival time w.r.t a drug. It is our hope that these have some indication of gene sensitivites."
   ]
  },
  {
   "cell_type": "code",
   "execution_count": 1,
   "metadata": {},
   "outputs": [],
   "source": [
    "import requests\n",
    "import json\n",
    "import csv"
   ]
  },
  {
   "cell_type": "markdown",
   "metadata": {},
   "source": [
    "# /predicate functionality example\n",
    "By running /predicates you can extract a json object with the following predicates:<br>\n",
    "1.) biolink:GeneToDiseaseAssociation<br>\n",
    "2.) biolink:ChemicalToDiseaseOrPhenotypicFeatureAssociation<br>\n",
    "3.) biolink:ChemicalToGeneAssociation<br>\n",
    "4.) biolink:DiseaseToPhenotypicFeatureAssociation<br>\n",
    "\n",
    "The above predicates match the following biolink entities:<br>\n",
    "1.) biolink:Gene<br>\n",
    "2.) biolink:Drug<br>\n",
    "3.) biolink:Disease<br>\n",
    "4.) biolink:PhenotypicFeature<br>\n",
    "\n",
    "It should be noted for this handler that only the edge predicate, biolink:ChemicalToGeneAssociation will be used to connect a biolink:Drug to a biolink:Gene."
   ]
  },
  {
   "cell_type": "code",
   "execution_count": 2,
   "metadata": {},
   "outputs": [
    {
     "name": "stdout",
     "output_type": "stream",
     "text": [
      "{\n",
      "  \"biolink:Gene\": {\n",
      "    \"biolink:Disease\": [\n",
      "      \"biolink:GeneToDiseaseAssociation\"\n",
      "    ]\n",
      "  },\n",
      "  \"biolink:Drug\": {\n",
      "    \"biolink:Disease\": [\n",
      "      \"biolink:ChemicalToDiseaseOrPhenotypicFeatureAssociation\"\n",
      "    ],\n",
      "    \"biolink:Gene\": [\n",
      "      \"biolink:ChemicalToGeneAssociation\"\n",
      "    ]\n",
      "  },\n",
      "  \"biolink:Disease\": {\n",
      "    \"biolink:PhenotypicFeature\": [\n",
      "      \"biolink:DiseaseToPhenotypicFeatureAssociation\"\n",
      "    ]\n",
      "  }\n",
      "}\n"
     ]
    }
   ],
   "source": [
    "r = requests.get('http://chp.thayer.dartmouth.edu/predicates/')\n",
    "json_formatted_str = json.dumps(json.loads(r.content), indent=2)\n",
    "print(json_formatted_str)"
   ]
  },
  {
   "cell_type": "markdown",
   "metadata": {},
   "source": [
    "# Build Query\n",
    "Constructs a json query object and can take in a survival time single drug. The gene node will be left without a curie and ultimately in the KG will be replace with a series of contributing genes."
   ]
  },
  {
   "cell_type": "code",
   "execution_count": 3,
   "metadata": {},
   "outputs": [],
   "source": [
    "# Function: buildQuery\n",
    "#\n",
    "# Input:\n",
    "# -----------\n",
    "# a single drug\n",
    "#\n",
    "# Output:\n",
    "# -----------\n",
    "# A query graph that asks this probablistic question: \n",
    "# P(survival_time > X | Drug = d1)\n",
    "\n",
    "def buildQuery(st, drug):\n",
    "    \n",
    "    # empty response\n",
    "    reasoner_std = { \"query_graph\": dict(),\n",
    "                     \"knowledge_graph\": dict(),\n",
    "                     \"results\": list()\n",
    "                   }\n",
    "    # empty query graph\n",
    "    reasoner_std[\"query_graph\"] = { \"edges\": dict(),\n",
    "                                    \"nodes\": dict()\n",
    "                                  }\n",
    "    # empty knowledge graph\n",
    "    reasoner_std[\"knowledge_graph\"] = { \"edges\": dict(),\n",
    "                                        \"nodes\": dict()\n",
    "                                      }\n",
    "\n",
    "    # drug\n",
    "    reasoner_std['query_graph']['nodes']['n0'] = { 'category':'biolink:Drug',\n",
    "                                                   'id':'{}'.format(drug[1])\n",
    "                                                 }\n",
    "    \n",
    "    # wildcard gene slot\n",
    "    reasoner_std['query_graph']['nodes']['n1'] = { 'category':'biolink:Gene'\n",
    "                                                 }\n",
    "\n",
    "    \n",
    "    # link drug to gene\n",
    "    reasoner_std['query_graph']['edges']['e0'] = { 'predicate':'biolink:ChemicalToGeneAssociation',\n",
    "                                                   'subject': 'n0',\n",
    "                                                   'object': 'n1'\n",
    "                                                 }\n",
    "    return reasoner_std"
   ]
  },
  {
   "cell_type": "markdown",
   "metadata": {},
   "source": [
    "# Read Drugs\n",
    "Functionality to read in our set of available drugs with respective chembl curie IDs."
   ]
  },
  {
   "cell_type": "code",
   "execution_count": 4,
   "metadata": {},
   "outputs": [],
   "source": [
    "def readDrugs():\n",
    "    with open('drug_curie_map.csv', 'r') as drug_file:\n",
    "        reader = csv.reader(drug_file)\n",
    "        next(reader)\n",
    "        rows = [(row[0],row[1]) for row in reader]\n",
    "    return rows"
   ]
  },
  {
   "cell_type": "markdown",
   "metadata": {},
   "source": [
    "# Constructing the Query and pinging CHP\n",
    "You can use the commented out functionality to check which drugs are available. A single drug tuple may be passed in as evidence."
   ]
  },
  {
   "cell_type": "code",
   "execution_count": 5,
   "metadata": {
    "scrolled": false
   },
   "outputs": [],
   "source": [
    "# list of drugs (and curies) we can query over\n",
    "#drug_list = readDrugs()\n",
    "\n",
    "survival_time = 1000\n",
    "drug = ('CYCLOPHOSPHAMIDE', 'CHEMBL:CHEMBL88')\n",
    "\n",
    "query = buildQuery(survival_time, drug)\n",
    "payload = {'message': query}\n",
    "\n",
    "r = requests.post('http://chp.thayer.dartmouth.edu/query/', json=payload)\n",
    "chp_res = json.loads(r.content)"
   ]
  },
  {
   "cell_type": "markdown",
   "metadata": {},
   "source": [
    "# Extract sensitive genes\n",
    "Sensitivty values range between -1 and 1. Genes closer to -1 can be thought of as having contributed more to the false assignment of $P(survival\\_time > X | Drug)$. Similarly genes closer to 1 can be thought of as having contributed more to the true assignment. Gene sensitivities are order by their absolute value."
   ]
  },
  {
   "cell_type": "markdown",
   "metadata": {},
   "source": [
    "## Extract sensitive gene rankings"
   ]
  },
  {
   "cell_type": "code",
   "execution_count": 6,
   "metadata": {},
   "outputs": [
    {
     "name": "stdout",
     "output_type": "stream",
     "text": [
      "('PIK3CA', 'CHEMBL:CHEMBL88', 0.015628888557065554)\n",
      "('WNK3', 'CHEMBL:CHEMBL88', -0.014322333383106955)\n",
      "('MUC16', 'CHEMBL:CHEMBL88', -0.013899258374396584)\n",
      "('ROBO1', 'CHEMBL:CHEMBL88', -0.013812154696132686)\n",
      "('SGIP1', 'CHEMBL:CHEMBL88', -0.013812154696132686)\n",
      "('MYCBP2', 'CHEMBL:CHEMBL88', -0.013812154696132686)\n",
      "('RYR2', 'CHEMBL:CHEMBL88', 0.013725051017868792)\n",
      "('CDH1', 'CHEMBL:CHEMBL88', -0.012368722313473766)\n",
      "('ABCA13', 'CHEMBL:CHEMBL88', -0.012070081130854688)\n"
     ]
    }
   ],
   "source": [
    "KG = chp_res['message']['knowledge_graph']\n",
    "QG = chp_res['message']['query_graph']\n",
    "results = chp_res['message']['results']\n",
    "\n",
    "# holds gene sensitivites\n",
    "sensitivity_results = results[1:]\n",
    "\n",
    "genes = []\n",
    "for sr in sensitivity_results:\n",
    "    for qge_id in sr['edge_bindings'].keys():\n",
    "        if QG['edges'][qge_id]['predicate'] == 'biolink:ChemicalToGeneAssociation':\n",
    "            kge_id = sr['edge_bindings'][qge_id][0]['id']\n",
    "            sensitivity = KG['edges'][kge_id]\n",
    "            gene_curie = sensitivity['subject']\n",
    "            gene_weight = sensitivity['value']    \n",
    "    for qgn_id in sr['node_bindings'].keys():\n",
    "        if QG['nodes'][qgn_id]['category'] == 'biolink:Gene':\n",
    "            kgn_id = sr['node_bindings'][qgn_id][0]['id']\n",
    "            gene_name = KG['nodes'][kgn_id]['name']\n",
    "    genes.append((gene_name, gene_curie, gene_weight))\n",
    "    \n",
    "for gene in genes:\n",
    "    print(gene)"
   ]
  },
  {
   "cell_type": "code",
   "execution_count": null,
   "metadata": {},
   "outputs": [],
   "source": []
  }
 ],
 "metadata": {
  "kernelspec": {
   "display_name": "Python 3",
   "language": "python",
   "name": "python3"
  },
  "language_info": {
   "codemirror_mode": {
    "name": "ipython",
    "version": 3
   },
   "file_extension": ".py",
   "mimetype": "text/x-python",
   "name": "python",
   "nbconvert_exporter": "python",
   "pygments_lexer": "ipython3",
   "version": "3.8.3"
  }
 },
 "nbformat": 4,
 "nbformat_minor": 2
}
