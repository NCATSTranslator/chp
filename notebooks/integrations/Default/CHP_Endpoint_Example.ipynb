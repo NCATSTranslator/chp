{
 "cells": [
  {
   "cell_type": "markdown",
   "metadata": {},
   "source": [
    "# /query and /predicate functionality for CHP\n",
    "\n",
    "Queries for our system are in the probabilistic form of:<br>\n",
    "$P(survival\\_time > X | Mut\\_g_1 = True, Mut\\_g_2 = True, ..., Mut\\_g_n = True, Drug = d_1, Drug = d_2, ..., Drug = d_n)$<br>\n",
    "Returned is a knowledge graph containing probability of survival time and contribution analysis (if specified)"
   ]
  },
  {
   "cell_type": "code",
   "execution_count": 39,
   "metadata": {},
   "outputs": [],
   "source": [
    "import requests\n",
    "import json\n",
    "import csv"
   ]
  },
  {
   "cell_type": "code",
   "execution_count": 52,
   "metadata": {},
   "outputs": [
    {
     "name": "stdout",
     "output_type": "stream",
     "text": [
      "b'{\"gene\": {\"disease\": [\"gene_to_disease_association\"]}, \"drug\": {\"disease\": [\"chemical_to_disease_or_phenotypic_feature_association\"]}, \"disease\": {\"phenotypicfeature\": [\"disease_to_phenotypic_association\"]}}'\n"
     ]
    }
   ],
   "source": [
    "r = requests.get('http://chp.thayer.dartmouth.edu/predicates/')\n",
    "print(r.content)"
   ]
  },
  {
   "cell_type": "code",
   "execution_count": 41,
   "metadata": {},
   "outputs": [],
   "source": [
    "# Function: buildQuery\n",
    "#\n",
    "# Input:\n",
    "# -----------\n",
    "# list of gene and drug tuples\n",
    "#\n",
    "# Output:\n",
    "# -----------\n",
    "# A query graph that answers this probablistic question: \n",
    "# P(survival_time > X | Mut_g1 = True, Mut_g2 = True, ..., Mut_gn = True, Drug = d1, Drug = d2, ..., Drug = dn)\n",
    "\n",
    "def buildQuery(st, disease, genes=[], drugs=[]):\n",
    "    \n",
    "    # empty response\n",
    "    reasoner_std = { \"query_graph\": dict()}\n",
    "    \n",
    "    # empty query graph\n",
    "    reasoner_std[\"query_graph\"] = { \"edges\": dict(),\n",
    "                                    \"nodes\": dict()\n",
    "                                  }\n",
    "    \n",
    "    node_count = 0\n",
    "    edge_count = 0\n",
    "    \n",
    "    # add genes\n",
    "    for gene in genes:\n",
    "        reasoner_std['query_graph']['nodes']['n{}'.format(node_count)] = { 'category':'gene',\n",
    "                                                                           'curie':'{}'.format(gene[1])\n",
    "                                                                         }\n",
    "        node_count += 1\n",
    "    \n",
    "    # add drugs\n",
    "    for drug in drugs:\n",
    "        reasoner_std['query_graph']['nodes']['n{}'.format(node_count)] = { 'category':'drug',\n",
    "                                                                           'curie':'{}'.format(drug[1])\n",
    "                                                                         }\n",
    "        node_count += 1\n",
    "    \n",
    "    # add in disease node\n",
    "    reasoner_std['query_graph']['nodes']['n{}'.format(node_count)] = { 'category':'disease',\n",
    "                                                                       'curie':'{}'.format(disease[1])\n",
    "                                                                     }\n",
    "    node_count += 1\n",
    "    \n",
    "    # link all evidence to disease\n",
    "    for node_id in reasoner_std['query_graph']['nodes'].keys():\n",
    "        node = reasoner_std['query_graph']['nodes'][node_id]\n",
    "        if node['category'] == 'gene':\n",
    "            reasoner_std['query_graph']['edges']['e{}'.format(edge_count)] = { 'predicate':'gene_to_disease_association',\n",
    "                                                                               'subject': node_id,\n",
    "                                                                               'object': 'n{}'.format(node_count -1)   # should be disease node\n",
    "                                                                             }\n",
    "            edge_count += 1\n",
    "        elif node['category'] == 'drug':\n",
    "            reasoner_std['query_graph']['edges']['e{}'.format(edge_count)] = { 'predicate':'chemical_to_disease_or_phenotypic_feature_association',\n",
    "                                                                               'subject': node_id,\n",
    "                                                                               'object': 'n{}'.format(node_count -1)  # should be disease node\n",
    "                                                                             }\n",
    "            edge_count += 1\n",
    "            \n",
    "    # add target survival node\n",
    "    phenotype = ('Survival_Time', 'EFO:0000714')\n",
    "    reasoner_std['query_graph']['nodes']['n{}'.format(node_count)] = { 'category': 'phenotypicfeature',\n",
    "                                                                       'curie': '{}'.format(phenotype[1]),\n",
    "                                                                     }\n",
    "    node_count += 1\n",
    "    \n",
    "    # link disease to target\n",
    "    reasoner_std['query_graph']['edges']['e{}'.format(edge_count)] = { 'predicate':'disease_to_phenotype_association',\n",
    "                                                                       'subject': 'n{}'.format(node_count-2),\n",
    "                                                                       'object': 'n{}'.format(node_count-1),\n",
    "                                                                       'properties': { 'qualifier':'>=',\n",
    "                                                                                       'days': st\n",
    "                                                                                     }\n",
    "                                                                     }\n",
    "    return reasoner_std"
   ]
  },
  {
   "cell_type": "code",
   "execution_count": 42,
   "metadata": {},
   "outputs": [],
   "source": [
    "def readGenes():\n",
    "    with open('gene_curie_map.csv', 'r') as gene_file:\n",
    "        reader = csv.reader(gene_file)\n",
    "        next(reader)\n",
    "        rows = [(row[0],row[1]) for row in reader]\n",
    "    return rows"
   ]
  },
  {
   "cell_type": "code",
   "execution_count": 43,
   "metadata": {},
   "outputs": [],
   "source": [
    "def readDrugs():\n",
    "    with open('drug_curie_map.csv', 'r') as drug_file:\n",
    "        reader = csv.reader(drug_file)\n",
    "        next(reader)\n",
    "        rows = [(row[0],row[1]) for row in reader]\n",
    "    return rows"
   ]
  },
  {
   "cell_type": "code",
   "execution_count": 54,
   "metadata": {},
   "outputs": [
    {
     "name": "stdout",
     "output_type": "stream",
     "text": [
      "b'\\n<!doctype html>\\n<html lang=\"en\">\\n<head>\\n  <title>Server Error (500)</title>\\n</head>\\n<body>\\n  <h1>Server Error (500)</h1><p></p>\\n</body>\\n</html>\\n'\n"
     ]
    },
    {
     "ename": "JSONDecodeError",
     "evalue": "Expecting value: line 2 column 1 (char 1)",
     "output_type": "error",
     "traceback": [
      "\u001b[0;31m---------------------------------------------------------------------------\u001b[0m",
      "\u001b[0;31mJSONDecodeError\u001b[0m                           Traceback (most recent call last)",
      "\u001b[0;32m<ipython-input-54-6fb56a2b31ef>\u001b[0m in \u001b[0;36m<module>\u001b[0;34m\u001b[0m\n\u001b[1;32m     18\u001b[0m \u001b[0mr\u001b[0m \u001b[0;34m=\u001b[0m \u001b[0mrequests\u001b[0m\u001b[0;34m.\u001b[0m\u001b[0mpost\u001b[0m\u001b[0;34m(\u001b[0m\u001b[0;34m'http://chp.thayer.dartmouth.edu/query/'\u001b[0m\u001b[0;34m,\u001b[0m \u001b[0mjson\u001b[0m\u001b[0;34m=\u001b[0m\u001b[0mpayload\u001b[0m\u001b[0;34m)\u001b[0m\u001b[0;34m\u001b[0m\u001b[0;34m\u001b[0m\u001b[0m\n\u001b[1;32m     19\u001b[0m \u001b[0mprint\u001b[0m\u001b[0;34m(\u001b[0m\u001b[0mr\u001b[0m\u001b[0;34m.\u001b[0m\u001b[0mcontent\u001b[0m\u001b[0;34m)\u001b[0m\u001b[0;34m\u001b[0m\u001b[0;34m\u001b[0m\u001b[0m\n\u001b[0;32m---> 20\u001b[0;31m \u001b[0mchp_res\u001b[0m \u001b[0;34m=\u001b[0m \u001b[0mjson\u001b[0m\u001b[0;34m.\u001b[0m\u001b[0mloads\u001b[0m\u001b[0;34m(\u001b[0m\u001b[0mr\u001b[0m\u001b[0;34m.\u001b[0m\u001b[0mcontent\u001b[0m\u001b[0;34m)\u001b[0m\u001b[0;34m\u001b[0m\u001b[0;34m\u001b[0m\u001b[0m\n\u001b[0m\u001b[1;32m     21\u001b[0m \u001b[0mKG\u001b[0m \u001b[0;34m=\u001b[0m \u001b[0mreasoner_std_final\u001b[0m\u001b[0;34m[\u001b[0m\u001b[0;34m'message'\u001b[0m\u001b[0;34m]\u001b[0m\u001b[0;34m[\u001b[0m\u001b[0;34m'knowledge_graph'\u001b[0m\u001b[0;34m]\u001b[0m\u001b[0;34m\u001b[0m\u001b[0;34m\u001b[0m\u001b[0m\n\u001b[1;32m     22\u001b[0m \u001b[0;32mfor\u001b[0m \u001b[0medge_key\u001b[0m \u001b[0;32min\u001b[0m \u001b[0mKG\u001b[0m\u001b[0;34m[\u001b[0m\u001b[0;34m'edges'\u001b[0m\u001b[0;34m]\u001b[0m\u001b[0;34m.\u001b[0m\u001b[0mkeys\u001b[0m\u001b[0;34m(\u001b[0m\u001b[0;34m)\u001b[0m\u001b[0;34m:\u001b[0m\u001b[0;34m\u001b[0m\u001b[0;34m\u001b[0m\u001b[0m\n",
      "\u001b[0;32m/usr/local/lib/python3.8/json/__init__.py\u001b[0m in \u001b[0;36mloads\u001b[0;34m(s, cls, object_hook, parse_float, parse_int, parse_constant, object_pairs_hook, **kw)\u001b[0m\n\u001b[1;32m    355\u001b[0m             \u001b[0mparse_int\u001b[0m \u001b[0;32mis\u001b[0m \u001b[0;32mNone\u001b[0m \u001b[0;32mand\u001b[0m \u001b[0mparse_float\u001b[0m \u001b[0;32mis\u001b[0m \u001b[0;32mNone\u001b[0m \u001b[0;32mand\u001b[0m\u001b[0;34m\u001b[0m\u001b[0;34m\u001b[0m\u001b[0m\n\u001b[1;32m    356\u001b[0m             parse_constant is None and object_pairs_hook is None and not kw):\n\u001b[0;32m--> 357\u001b[0;31m         \u001b[0;32mreturn\u001b[0m \u001b[0m_default_decoder\u001b[0m\u001b[0;34m.\u001b[0m\u001b[0mdecode\u001b[0m\u001b[0;34m(\u001b[0m\u001b[0ms\u001b[0m\u001b[0;34m)\u001b[0m\u001b[0;34m\u001b[0m\u001b[0;34m\u001b[0m\u001b[0m\n\u001b[0m\u001b[1;32m    358\u001b[0m     \u001b[0;32mif\u001b[0m \u001b[0mcls\u001b[0m \u001b[0;32mis\u001b[0m \u001b[0;32mNone\u001b[0m\u001b[0;34m:\u001b[0m\u001b[0;34m\u001b[0m\u001b[0;34m\u001b[0m\u001b[0m\n\u001b[1;32m    359\u001b[0m         \u001b[0mcls\u001b[0m \u001b[0;34m=\u001b[0m \u001b[0mJSONDecoder\u001b[0m\u001b[0;34m\u001b[0m\u001b[0;34m\u001b[0m\u001b[0m\n",
      "\u001b[0;32m/usr/local/lib/python3.8/json/decoder.py\u001b[0m in \u001b[0;36mdecode\u001b[0;34m(self, s, _w)\u001b[0m\n\u001b[1;32m    335\u001b[0m \u001b[0;34m\u001b[0m\u001b[0m\n\u001b[1;32m    336\u001b[0m         \"\"\"\n\u001b[0;32m--> 337\u001b[0;31m         \u001b[0mobj\u001b[0m\u001b[0;34m,\u001b[0m \u001b[0mend\u001b[0m \u001b[0;34m=\u001b[0m \u001b[0mself\u001b[0m\u001b[0;34m.\u001b[0m\u001b[0mraw_decode\u001b[0m\u001b[0;34m(\u001b[0m\u001b[0ms\u001b[0m\u001b[0;34m,\u001b[0m \u001b[0midx\u001b[0m\u001b[0;34m=\u001b[0m\u001b[0m_w\u001b[0m\u001b[0;34m(\u001b[0m\u001b[0ms\u001b[0m\u001b[0;34m,\u001b[0m \u001b[0;36m0\u001b[0m\u001b[0;34m)\u001b[0m\u001b[0;34m.\u001b[0m\u001b[0mend\u001b[0m\u001b[0;34m(\u001b[0m\u001b[0;34m)\u001b[0m\u001b[0;34m)\u001b[0m\u001b[0;34m\u001b[0m\u001b[0;34m\u001b[0m\u001b[0m\n\u001b[0m\u001b[1;32m    338\u001b[0m         \u001b[0mend\u001b[0m \u001b[0;34m=\u001b[0m \u001b[0m_w\u001b[0m\u001b[0;34m(\u001b[0m\u001b[0ms\u001b[0m\u001b[0;34m,\u001b[0m \u001b[0mend\u001b[0m\u001b[0;34m)\u001b[0m\u001b[0;34m.\u001b[0m\u001b[0mend\u001b[0m\u001b[0;34m(\u001b[0m\u001b[0;34m)\u001b[0m\u001b[0;34m\u001b[0m\u001b[0;34m\u001b[0m\u001b[0m\n\u001b[1;32m    339\u001b[0m         \u001b[0;32mif\u001b[0m \u001b[0mend\u001b[0m \u001b[0;34m!=\u001b[0m \u001b[0mlen\u001b[0m\u001b[0;34m(\u001b[0m\u001b[0ms\u001b[0m\u001b[0;34m)\u001b[0m\u001b[0;34m:\u001b[0m\u001b[0;34m\u001b[0m\u001b[0;34m\u001b[0m\u001b[0m\n",
      "\u001b[0;32m/usr/local/lib/python3.8/json/decoder.py\u001b[0m in \u001b[0;36mraw_decode\u001b[0;34m(self, s, idx)\u001b[0m\n\u001b[1;32m    353\u001b[0m             \u001b[0mobj\u001b[0m\u001b[0;34m,\u001b[0m \u001b[0mend\u001b[0m \u001b[0;34m=\u001b[0m \u001b[0mself\u001b[0m\u001b[0;34m.\u001b[0m\u001b[0mscan_once\u001b[0m\u001b[0;34m(\u001b[0m\u001b[0ms\u001b[0m\u001b[0;34m,\u001b[0m \u001b[0midx\u001b[0m\u001b[0;34m)\u001b[0m\u001b[0;34m\u001b[0m\u001b[0;34m\u001b[0m\u001b[0m\n\u001b[1;32m    354\u001b[0m         \u001b[0;32mexcept\u001b[0m \u001b[0mStopIteration\u001b[0m \u001b[0;32mas\u001b[0m \u001b[0merr\u001b[0m\u001b[0;34m:\u001b[0m\u001b[0;34m\u001b[0m\u001b[0;34m\u001b[0m\u001b[0m\n\u001b[0;32m--> 355\u001b[0;31m             \u001b[0;32mraise\u001b[0m \u001b[0mJSONDecodeError\u001b[0m\u001b[0;34m(\u001b[0m\u001b[0;34m\"Expecting value\"\u001b[0m\u001b[0;34m,\u001b[0m \u001b[0ms\u001b[0m\u001b[0;34m,\u001b[0m \u001b[0merr\u001b[0m\u001b[0;34m.\u001b[0m\u001b[0mvalue\u001b[0m\u001b[0;34m)\u001b[0m \u001b[0;32mfrom\u001b[0m \u001b[0;32mNone\u001b[0m\u001b[0;34m\u001b[0m\u001b[0;34m\u001b[0m\u001b[0m\n\u001b[0m\u001b[1;32m    356\u001b[0m         \u001b[0;32mreturn\u001b[0m \u001b[0mobj\u001b[0m\u001b[0;34m,\u001b[0m \u001b[0mend\u001b[0m\u001b[0;34m\u001b[0m\u001b[0;34m\u001b[0m\u001b[0m\n",
      "\u001b[0;31mJSONDecodeError\u001b[0m: Expecting value: line 2 column 1 (char 1)"
     ]
    }
   ],
   "source": [
    "# list of genes (and curies) we can query over\n",
    "#gene_list = readGenes()\n",
    "\n",
    "# list of drugs (and curies) we can query over\n",
    "#drug_list = readDrugs()\n",
    "\n",
    "# or pull from above lists\n",
    "genes = [('RAF1', 'ENSEMBL:ENSG00000132155'),\n",
    "         ('MAP3K13','ENSEMBL:ENSG00000073803')]\n",
    "drugs = [('CYCLOPHOSPHAMIDE', 'CHEMBL:CHEMBL88')]\n",
    "disease = ('Breast_Cancer', 'MONDO:0007254')\n",
    "survival_time = 1000\n",
    "# if genes or drugs is an empty list you can omit them\n",
    "query = buildQuery(survival_time, disease, genes=genes, drugs=drugs)\n",
    "payload = {'message': query}\n",
    "r = requests.post('http://chp.thayer.dartmouth.edu/query/', json=payload)\n",
    "chp_res = json.loads(r.content)\n",
    "KG = reasoner_std_final['message']['knowledge_graph']\n",
    "for edge_key in KG['edges'].keys():\n",
    "    edge = KG['edges'][edge_key]\n",
    "    if edge['predicate'] == 'disease_to_phenotype_association':\n",
    "        p_survival = edge['has_confidence_level']\n",
    "\n",
    "# probability of surival given QG specification\n",
    "print(\"Probability of survival > {} days is:\".format(survival_time), p_survival)"
   ]
  },
  {
   "cell_type": "code",
   "execution_count": null,
   "metadata": {},
   "outputs": [],
   "source": []
  }
 ],
 "metadata": {
  "kernelspec": {
   "display_name": "Python 3",
   "language": "python",
   "name": "python3"
  },
  "language_info": {
   "codemirror_mode": {
    "name": "ipython",
    "version": 3
   },
   "file_extension": ".py",
   "mimetype": "text/x-python",
   "name": "python",
   "nbconvert_exporter": "python",
   "pygments_lexer": "ipython3",
   "version": "3.8.3"
  }
 },
 "nbformat": 4,
 "nbformat_minor": 2
}
