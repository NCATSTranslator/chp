{
 "cells": [
  {
   "cell_type": "markdown",
   "metadata": {},
   "source": [
    "# /query and /predicate functionality for CHP\n",
    "\n",
    "Queries for our system are in the probabilistic form of:<br>\n",
    "$P(survival\\_time > X | Mut\\_g_1 = True, Mut\\_g_2 = True, ..., Mut\\_g_n = True, Drug = d_1, Drug = d_2, ..., Drug = d_n)$<br>\n",
    "Returned is a knowledge graph containing probability of survival time and contribution analysis (if specified)"
   ]
  },
  {
   "cell_type": "code",
   "execution_count": 17,
   "metadata": {},
   "outputs": [],
   "source": [
    "import requests\n",
    "import json\n",
    "import csv"
   ]
  },
  {
   "cell_type": "markdown",
   "metadata": {},
   "source": [
    "# /predicate functionality example\n",
    "By running /predicates you can extract a json object with the following predicates:<br>\n",
    "1.) gene_to_disease_association<br>\n",
    "2.) chemical_to_disease_or_phenotypic_feature_association<br>\n",
    "3.) disease_to_phenotypic_association<br>\n",
    "\n",
    "The above predicates match the following biolink entities:<br>\n",
    "1.) gene<br>\n",
    "2.) drug<br>\n",
    "3.) disease<br>\n",
    "4.) phenotypicfeature"
   ]
  },
  {
   "cell_type": "code",
   "execution_count": 18,
   "metadata": {},
   "outputs": [
    {
     "name": "stdout",
     "output_type": "stream",
     "text": [
      "{\n",
      "  \"gene\": {\n",
      "    \"disease\": [\n",
      "      \"gene_to_disease_association\"\n",
      "    ]\n",
      "  },\n",
      "  \"drug\": {\n",
      "    \"disease\": [\n",
      "      \"chemical_to_disease_or_phenotypic_feature_association\"\n",
      "    ]\n",
      "  },\n",
      "  \"disease\": {\n",
      "    \"phenotypicfeature\": [\n",
      "      \"disease_to_phenotypic_association\"\n",
      "    ]\n",
      "  }\n",
      "}\n"
     ]
    }
   ],
   "source": [
    "r = requests.get('http://chp.thayer.dartmouth.edu/predicates/')\n",
    "json_formatted_str = json.dumps(json.loads(r.content), indent=2)\n",
    "print(json_formatted_str)"
   ]
  },
  {
   "cell_type": "markdown",
   "metadata": {},
   "source": [
    "# Build Query\n",
    "constructs a json query object and can take in a survival time, a disease and a set of genes and drugs."
   ]
  },
  {
   "cell_type": "code",
   "execution_count": 19,
   "metadata": {},
   "outputs": [],
   "source": [
    "# Function: buildQuery\n",
    "#\n",
    "# Input:\n",
    "# -----------\n",
    "# list of gene and drug tuples\n",
    "#\n",
    "# Output:\n",
    "# -----------\n",
    "# A query graph that answers this probablistic question: \n",
    "# P(survival_time > X | Mut_g1 = True, Mut_g2 = True, ..., Mut_gn = True, Drug = d1, Drug = d2, ..., Drug = dn)\n",
    "\n",
    "def buildQuery(st, disease, genes=[], drugs=[]):\n",
    "    \n",
    "    # empty response\n",
    "    reasoner_std = { \"query_graph\": dict(),\n",
    "                     \"knowledge_graph\": dict(),\n",
    "                     \"results\": list()\n",
    "                   }\n",
    "    # empty query graph\n",
    "    reasoner_std[\"query_graph\"] = { \"edges\": dict(),\n",
    "                                    \"nodes\": dict()\n",
    "                                  }\n",
    "    # empty knowledge graph\n",
    "    reasoner_std[\"knowledge_graph\"] = { \"edges\": dict(),\n",
    "                                        \"nodes\": dict()\n",
    "                                      }\n",
    "    # empty response graph\n",
    "    reasoner_std[\"results\"] = [{ \"node_bindings\": dict(),\n",
    "                                 \"edge_bindings\": dict()\n",
    "                              }]\n",
    "    \n",
    "    node_count = 0\n",
    "    edge_count = 0\n",
    "    \n",
    "    # add genes\n",
    "    for gene in genes:\n",
    "        reasoner_std['query_graph']['nodes']['n{}'.format(node_count)] = { 'type':'gene',\n",
    "                                                                           'curie':'{}'.format(gene[1])\n",
    "                                                                         }\n",
    "        node_count += 1\n",
    "    \n",
    "    # add drugs\n",
    "    for drug in drugs:\n",
    "        reasoner_std['query_graph']['nodes']['n{}'.format(node_count)] = { 'type':'drug',\n",
    "                                                                           'curie':'{}'.format(drug[1])\n",
    "                                                                         }\n",
    "        node_count += 1\n",
    "    \n",
    "    # add in disease node\n",
    "    reasoner_std['query_graph']['nodes']['n{}'.format(node_count)] = { 'type':'disease',\n",
    "                                                                       'curie':'{}'.format(disease[1])\n",
    "                                                                     }\n",
    "    node_count += 1\n",
    "    \n",
    "    # link all evidence to disease\n",
    "    for node_id in reasoner_std['query_graph']['nodes'].keys():\n",
    "        node = reasoner_std['query_graph']['nodes'][node_id]\n",
    "        if node['type'] == 'gene':\n",
    "            reasoner_std['query_graph']['edges']['e{}'.format(edge_count)] = { 'type':'gene_to_disease_association',\n",
    "                                                                               'source_id': node_id,\n",
    "                                                                               'target_id': 'n{}'.format(node_count -1)   # should be disease node\n",
    "                                                                             }\n",
    "            edge_count += 1\n",
    "        elif node['type'] == 'drug':\n",
    "            reasoner_std['query_graph']['edges']['e{}'.format(edge_count)] = { 'type':'chemical_to_disease_or_phenotypic_feature_association',\n",
    "                                                                               'source_id': node_id,\n",
    "                                                                               'target_id': 'n{}'.format(node_count -1)  # should be disease node\n",
    "                                                                             }\n",
    "            edge_count += 1\n",
    "            \n",
    "    # add target survival node\n",
    "    phenotype = ('Survival_Time', 'EFO:0000714')\n",
    "    reasoner_std['query_graph']['nodes']['n{}'.format(node_count)] = { 'type': 'phenotypicfeature',\n",
    "                                                                       'curie': '{}'.format(phenotype[1]),\n",
    "                                                                     }\n",
    "    node_count += 1\n",
    "    \n",
    "    # link disease to target\n",
    "    reasoner_std['query_graph']['edges']['e{}'.format(edge_count)] = { 'type':'disease_to_phenotype_association',\n",
    "                                                                       'source_id': 'n{}'.format(node_count-2),\n",
    "                                                                       'target_id': 'n{}'.format(node_count-1),\n",
    "                                                                       # properties is optional - if not specified default \n",
    "                                                                       # days is 970 and default qualifier is '>='\n",
    "                                                                       'properties': { 'qualifier':'>=',\n",
    "                                                                                       'days': st\n",
    "                                                                                       #'contributions':True    # uncomment to include contributions\n",
    "                                                                                     }\n",
    "                                                                     }\n",
    "    return reasoner_std"
   ]
  },
  {
   "cell_type": "markdown",
   "metadata": {},
   "source": [
    "# Read Genes and Drugs\n",
    "Functionality to read in our set of available genes and drugs with respective ensemble and chembl curie IDs."
   ]
  },
  {
   "cell_type": "code",
   "execution_count": 20,
   "metadata": {},
   "outputs": [],
   "source": [
    "def readGenes():\n",
    "    with open('gene_curie_map.csv', 'r') as gene_file:\n",
    "        reader = csv.reader(gene_file)\n",
    "        next(reader)\n",
    "        rows = [(row[0],row[1]) for row in reader]\n",
    "    return rows"
   ]
  },
  {
   "cell_type": "code",
   "execution_count": 21,
   "metadata": {},
   "outputs": [],
   "source": [
    "def readDrugs():\n",
    "    with open('drug_curie_map.csv', 'r') as drug_file:\n",
    "        reader = csv.reader(drug_file)\n",
    "        next(reader)\n",
    "        rows = [(row[0],row[1]) for row in reader]\n",
    "    return rows"
   ]
  },
  {
   "cell_type": "markdown",
   "metadata": {},
   "source": [
    "# Constructing the Query and pinging CHP\n",
    "You can use the commented out functionality to check which genes and drugs are available. Genes and drugs are passed in as a list of tuples. Currently only breast cancer can be used as the disease."
   ]
  },
  {
   "cell_type": "code",
   "execution_count": 22,
   "metadata": {},
   "outputs": [],
   "source": [
    "# list of genes (and curies) we can query over\n",
    "#gene_list = readGenes()\n",
    "\n",
    "# list of drugs (and curies) we can query over\n",
    "#drug_list = readDrugs()\n",
    "\n",
    "# or pull from above lists\n",
    "genes = [('RAF1', 'ENSEMBL:ENSG00000132155'),\n",
    "         ('MAP3K13','ENSEMBL:ENSG00000073803')]\n",
    "drugs = [('CYCLOPHOSPHAMIDE', 'CHEMBL:CHEMBL88')]\n",
    "disease = ('Breast_Cancer', 'MONDO:0007254')\n",
    "survival_time = 970\n",
    "# if genes or drugs is an empty list you can omit them\n",
    "query = buildQuery(survival_time, disease, genes=genes, drugs=drugs)\n",
    "payload = {'message': query}\n",
    "r = requests.post('http://chp.thayer.dartmouth.edu/query/', json=payload)"
   ]
  },
  {
   "cell_type": "markdown",
   "metadata": {},
   "source": [
    "# Extract end probabilitiy"
   ]
  },
  {
   "cell_type": "code",
   "execution_count": 23,
   "metadata": {},
   "outputs": [
    {
     "name": "stdout",
     "output_type": "stream",
     "text": [
      "Probability of survival > 970 days is: 0.9938446232526468\n"
     ]
    }
   ],
   "source": [
    "chp_res = json.loads(r.content)\n",
    "KG = chp_res['message']['knowledge_graph']\n",
    "for edge_key in KG['edges'].keys():\n",
    "    edge = KG['edges'][edge_key]\n",
    "    if edge['type'] == 'disease_to_phenotype_association':\n",
    "        p_survival = edge['has_confidence_level']\n",
    "\n",
    "# probability of surival given QG specification\n",
    "print(\"Probability of survival > {} days is:\".format(survival_time), p_survival)"
   ]
  },
  {
   "cell_type": "code",
   "execution_count": null,
   "metadata": {},
   "outputs": [],
   "source": []
  }
 ],
 "metadata": {
  "kernelspec": {
   "display_name": "Python 3",
   "language": "python",
   "name": "python3"
  },
  "language_info": {
   "codemirror_mode": {
    "name": "ipython",
    "version": 3
   },
   "file_extension": ".py",
   "mimetype": "text/x-python",
   "name": "python",
   "nbconvert_exporter": "python",
   "pygments_lexer": "ipython3",
   "version": "3.8.3"
  }
 },
 "nbformat": 4,
 "nbformat_minor": 2
}
