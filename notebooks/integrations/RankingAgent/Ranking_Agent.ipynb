{
 "cells": [
  {
   "cell_type": "markdown",
   "metadata": {},
   "source": [
    "# Example Query for Survival Probability of 1-hop Queries\n",
    "\n",
    "Queries our system in the form of:\n",
    "$P(survival\\_time > 1000 | Mut\\_g_1 = True$ $OR$ $Drug = d_1)$<br>\n",
    "Returned is a knowledge graph contained probability of survival time."
   ]
  },
  {
   "cell_type": "code",
   "execution_count": 1,
   "metadata": {},
   "outputs": [],
   "source": [
    "import requests\n",
    "import json\n",
    "import csv"
   ]
  },
  {
   "cell_type": "code",
   "execution_count": 2,
   "metadata": {},
   "outputs": [],
   "source": [
    "# Function: buildQuery\n",
    "#\n",
    "# Input:\n",
    "# -----------\n",
    "# list of gene tuples containing gene name and ENSEMBL Identifiers\n",
    "#\n",
    "# Output\n",
    "# -----------\n",
    "# A knowledge graph with decorated edges for \n",
    "# P(survival_time > 1000 | Mut_g1 = True OR Drug = d1)\n",
    "\n",
    "def buildQuery(gene=None, drug=None):\n",
    "    assert gene != None or drug != None, \"Must include at least 1 gene OR 1 drug.\"\n",
    "    \n",
    "    # empty response\n",
    "    reasoner_std = { \"query_graph\": dict()}\n",
    "    \n",
    "    # empty query graph\n",
    "    reasoner_std[\"query_graph\"] = { \"edges\": [],\n",
    "                                    \"nodes\": []\n",
    "                                  }\n",
    "        \n",
    "    if gene != None:\n",
    "        # add in evidence genes\n",
    "        reasoner_std['query_graph']['nodes'].append({ 'id':'n{}'.format('0'),\n",
    "                                                      'type':'Gene',\n",
    "                                                      'curie':'{}'.format(gene[1])\n",
    "                                                   })\n",
    "    elif drug != None:\n",
    "        # add in evidence drug\n",
    "        reasoner_std['query_graph']['nodes'].append({ 'id':'n{}'.format('0'),\n",
    "                                                      'type':'Drug',\n",
    "                                                      'name':'{}'.format(drug[0]),\n",
    "                                                      'curie':'{}'.format(drug[1])\n",
    "                                                   })\n",
    "\n",
    "    # add target survival node\n",
    "    reasoner_std['query_graph']['nodes'].append({ 'id': 'n{}'.format('1'),\n",
    "                                                  'type': 'PhenotypicFeature',\n",
    "                                                  'curie': 'UBERON:0000071',\n",
    "                                                })\n",
    "    # link evidence to target survival node\n",
    "    reasoner_std['query_graph']['edges'].append({ 'id':'e{}'.format('0'),\n",
    "                                                  'type':'causes',\n",
    "                                                  'source_id':'n{}'.format('0'),\n",
    "                                                  'target_id':'n{}'.format('1')\n",
    "                                               })\n",
    "    return reasoner_std"
   ]
  },
  {
   "cell_type": "code",
   "execution_count": 3,
   "metadata": {},
   "outputs": [],
   "source": [
    "def readGenes():\n",
    "    with open('gene_curie_map.csv', 'r') as gene_file:\n",
    "        reader = csv.reader(gene_file)\n",
    "        next(reader)\n",
    "        rows = [row for row in reader]\n",
    "    return rows"
   ]
  },
  {
   "cell_type": "code",
   "execution_count": 4,
   "metadata": {},
   "outputs": [],
   "source": [
    "def readDrugs():\n",
    "    with open('drug_curie_map.csv', 'r') as drug_file:\n",
    "        reader = csv.reader(drug_file)\n",
    "        next(reader)\n",
    "        rows = [row for row in reader]\n",
    "    return rows"
   ]
  },
  {
   "cell_type": "code",
   "execution_count": 5,
   "metadata": {},
   "outputs": [
    {
     "name": "stdout",
     "output_type": "stream",
     "text": [
      "Probability of survival > 1000 days is: 0.42857142857142855\n"
     ]
    }
   ],
   "source": [
    "# list of genes we can query over\n",
    "#gene_list = readGenes()\n",
    "\n",
    "# list of genes we can query over\n",
    "#drug_list = readDrugs()\n",
    "\n",
    "# or pull from above lists\n",
    "gene = ('RAF1', 'ENSEMBL:ENSG00000132155')\n",
    "\n",
    "query = buildQuery(gene=gene)\n",
    "query['reasoner_id'] = 'ranking'\n",
    "payload = {'query': query}\n",
    "\n",
    "r = requests.post('http://chp.thayer.dartmouth.edu/submitQuery/', json=payload)\n",
    "chp_res = json.loads(r.content)\n",
    "\n",
    "QG = chp_res['query_graph']\n",
    "KG = chp_res['knowledge_graph']\n",
    "res = chp_res['results']\n",
    "\n",
    "# extract probability\n",
    "KG_result_edge = res['edge_bindings'][0]['kg_id']\n",
    "for edge in KG['edges']:\n",
    "    if edge['id'] == KG_result_edge:\n",
    "        p_survival = edge['has_confidence_level']\n",
    "\n",
    "# probability of surival given QG specification\n",
    "print(\"Probability of survival > 1000 days is:\", p_survival)"
   ]
  },
  {
   "cell_type": "code",
   "execution_count": null,
   "metadata": {},
   "outputs": [],
   "source": []
  }
 ],
 "metadata": {
  "kernelspec": {
   "display_name": "ncats38",
   "language": "python",
   "name": "ncats38"
  },
  "language_info": {
   "codemirror_mode": {
    "name": "ipython",
    "version": 3
   },
   "file_extension": ".py",
   "mimetype": "text/x-python",
   "name": "python",
   "nbconvert_exporter": "python",
   "pygments_lexer": "ipython3",
   "version": "3.8.3"
  }
 },
 "nbformat": 4,
 "nbformat_minor": 4
}
