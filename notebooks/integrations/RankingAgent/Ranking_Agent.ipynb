{
 "cells": [
  {
   "cell_type": "markdown",
   "metadata": {},
   "source": [
    "# Example Query for Survival Probability of 1-hop Queries\n",
    "\n",
    "Queries our system in the form of:\n",
    "$P(survival\\_time > 1000 | Mut\\_g_1 = True$ $OR$ $Drug = d_1)$<br>\n",
    "Returned is a knowledge graph contained probability of survival time."
   ]
  },
  {
   "cell_type": "code",
   "execution_count": 1,
   "metadata": {},
   "outputs": [],
   "source": [
    "import requests\n",
    "import json\n",
    "import csv"
   ]
  },
  {
   "cell_type": "code",
   "execution_count": 2,
   "metadata": {},
   "outputs": [],
   "source": [
    "# Function: buildQuery\n",
    "#\n",
    "# Input:\n",
    "# -----------\n",
    "# list of gene tuples containing gene name and ENSEMBL Identifiers\n",
    "#\n",
    "# Output\n",
    "# -----------\n",
    "# A knowledge graph with decorated edges for \n",
    "# P(survival_time > 1000 | Mut_g1 = True OR Drug = d1)\n",
    "\n",
    "def buildQuery(gene=None, drug=None):\n",
    "    assert gene != None or drug != None, \"Must include at least 1 gene OR 1 drug.\"\n",
    "    \n",
    "    # empty response\n",
    "    reasoner_std = { \"query_graph\": dict(),\n",
    "                     \"knowledge_graph\": dict(),\n",
    "                     \"response\": dict()\n",
    "                   }\n",
    "\n",
    "    # empty query graph\n",
    "    reasoner_std[\"query_graph\"] = { \"edges\": [],\n",
    "                                    \"nodes\": []\n",
    "                                  }\n",
    "\n",
    "    # empty knowledge graph\n",
    "    reasoner_std[\"knowledge_graph\"] = { \"edges\": [],\n",
    "                                        \"nodes\": []\n",
    "                                      }\n",
    "\n",
    "    # empty response graph\n",
    "    reasoner_std[\"results\"] = { \"node_bindings\": [],\n",
    "                                \"edge_bindings\": []\n",
    "                              }\n",
    "\n",
    "    if gene != None:\n",
    "        # add in evidence genes\n",
    "        reasoner_std['query_graph']['nodes'].append({ 'id':'n{}'.format('0'),\n",
    "                                                      'type':'Gene',\n",
    "                                                      'name':'{}'.format(gene[0]),\n",
    "                                                      'curie':'{}'.format(gene[1])\n",
    "                                                   })\n",
    "    elif drug != None:\n",
    "        # add in evidence drug\n",
    "        reasoner_std['query_graph']['nodes'].append({ 'id':'n{}'.format('0'),\n",
    "                                                      'type':'Drug',\n",
    "                                                      'name':'{}'.format(drug[0]),\n",
    "                                                      'curie':'{}'.format(drug[1])\n",
    "                                                   })\n",
    "\n",
    "    # add target survival node\n",
    "    reasoner_std['query_graph']['nodes'].append({ 'id': 'n{}'.format('1'),\n",
    "                                                  'type': 'Death',\n",
    "                                                  'curie': 'UBERON:0000071',\n",
    "                                                  'operator': '>=',\n",
    "                                                  'value': '1000'\n",
    "                                               })\n",
    "    return reasoner_std"
   ]
  },
  {
   "cell_type": "code",
   "execution_count": 4,
   "metadata": {},
   "outputs": [],
   "source": [
    "def readGenes():\n",
    "    with open('gene_curie_map.csv', 'r') as gene_file:\n",
    "        reader = csv.reader(gene_file)\n",
    "        next(reader)\n",
    "        rows = [row for row in reader]\n",
    "    return rows"
   ]
  },
  {
   "cell_type": "code",
   "execution_count": 5,
   "metadata": {},
   "outputs": [],
   "source": [
    "def readDrugs():\n",
    "    with open('drug_curie_map.csv', 'r') as drug_file:\n",
    "        reader = csv.reader(drug_file)\n",
    "        next(reader)\n",
    "        rows = [row for row in reader]\n",
    "    return rows"
   ]
  },
  {
   "cell_type": "code",
   "execution_count": 30,
   "metadata": {},
   "outputs": [
    {
     "name": "stdout",
     "output_type": "stream",
     "text": [
      "['ZOLADEX', 'CYCLOPHOSPHAMIDE', 'DOXORUBICIN', 'HERCEPTIN', 'TRASTUZUMAB', 'CARBOPLATIN', 'DOCETAXEL', 'FLUOROURACIL', 'TAMOXIFEN', 'LETROZOLE', 'ADRIAMYCIN', 'CYTOXAN', 'TAXOL', 'ARIMIDEX', 'EXEMESTANE', 'GEMZAR', 'TAXOTERE', 'XELODA', 'ANASTROZOLE', 'ZOMETA', 'GEMCITABINE', 'PACLITAXEL', 'ABRAXANE', 'DENOSUMAB', 'FULVESTRANT', 'ZOLEDRONIC ACID', 'LUPRON', 'LAPATINIB', 'FEMARA', 'AROMASIN', 'GOSERELIN', 'BEVACIZUMAB', 'EPIRUBICIN', 'METHOTREXATE', 'VINORELBINE', 'PAMIDRONATE', 'AVASTIN', 'TRIPTORELIN', 'ADRIAMYCIN-CYCLOPHOSPHAMIDE', 'CLODRONATE', 'FASLODEX', 'CYCLOPHOSPHANE', 'NEULASTA']\n"
     ]
    },
    {
     "data": {
      "text/plain": [
       "'\\nr = requests.post(\\'http://chp.thayer.dartmouth.edu/submitQuery/\\', json=payload)\\nchp_res = json.loads(r.content)\\n\\nQG = chp_res[\\'query_graph\\']\\nKG = chp_res[\\'knowledge_graph\\']\\nres = chp_res[\\'results\\']\\n\\n# extract probability\\nKG_result_node = res[\\'node_bindings\\'][0][\\'kg_id\\']\\nfor node in KG[\\'nodes\\']:\\n    if node[\\'id\\'] == KG_result_node:\\n        p_survival = node[\\'has_confidence_level\\']\\n\\n# probability of surival given QG specification\\nprint(\"Probability of survival > 1000 days is:\", p_survival)\\n'"
      ]
     },
     "execution_count": 30,
     "metadata": {},
     "output_type": "execute_result"
    }
   ],
   "source": [
    "# list of genes we can query over\n",
    "#gene_list = readGenes()\n",
    "\n",
    "# list of genes we can query over\n",
    "#drug_list = readDrugs()\n",
    "\n",
    "# or pull from above lists\n",
    "gene = ('RAF1', 'ENSEMBL:ENSG00000132155')\n",
    "\n",
    "query = buildQuery(gene=gene)\n",
    "query['reasoner_id'] = 'ranking'\n",
    "payload = {'query': query}\n",
    "\n",
    "r = requests.post('http://chp.thayer.dartmouth.edu/submitQuery/', json=payload)\n",
    "chp_res = json.loads(r.content)\n",
    "\n",
    "QG = chp_res['query_graph']\n",
    "KG = chp_res['knowledge_graph']\n",
    "res = chp_res['results']\n",
    "\n",
    "# extract probability\n",
    "KG_result_node = res['node_bindings'][0]['kg_id']\n",
    "for node in KG['nodes']:\n",
    "    if node['id'] == KG_result_node:\n",
    "        p_survival = node['has_confidence_level']\n",
    "\n",
    "# probability of surival given QG specification\n",
    "print(\"Probability of survival > 1000 days is:\", p_survival)"
   ]
  },
  {
   "cell_type": "code",
   "execution_count": null,
   "metadata": {},
   "outputs": [],
   "source": []
  }
 ],
 "metadata": {
  "kernelspec": {
   "display_name": "ncats38",
   "language": "python",
   "name": "ncats38"
  },
  "language_info": {
   "codemirror_mode": {
    "name": "ipython",
    "version": 3
   },
   "file_extension": ".py",
   "mimetype": "text/x-python",
   "name": "python",
   "nbconvert_exporter": "python",
   "pygments_lexer": "ipython3",
   "version": "3.8.3"
  }
 },
 "nbformat": 4,
 "nbformat_minor": 4
}
