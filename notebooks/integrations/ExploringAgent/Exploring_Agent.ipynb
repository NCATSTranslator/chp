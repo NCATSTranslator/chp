{
 "cells": [
  {
   "cell_type": "markdown",
   "metadata": {},
   "source": [
    "# Example Query for Survival Probability of 1-hop Queries\n",
    "\n",
    "Queries our system in the form of:<br>\n",
    "$P(survival\\_time > X | Mut\\_g_1 = True, Mut\\_g_2 = True, ..., Mut\\_g_n = True, Drug = d_1, Drug = d_2, ..., Drug = d_n)$<br>\n",
    "Returned is a knowledge graph containing probability of survival time."
   ]
  },
  {
   "cell_type": "code",
   "execution_count": 6,
   "metadata": {},
   "outputs": [],
   "source": [
    "import requests\n",
    "import json\n",
    "import csv"
   ]
  },
  {
   "cell_type": "code",
   "execution_count": 7,
   "metadata": {},
   "outputs": [],
   "source": [
    "# Function: buildQuery\n",
    "#\n",
    "# Input:\n",
    "# -----------\n",
    "# list of gene and drug tuples\n",
    "#\n",
    "# Output:\n",
    "# -----------\n",
    "# A query graph that answers this probablistic question: \n",
    "# P(survival_time > X | Mut_g1 = True, Mut_g2 = True, ..., Mut_gn = True, Drug = d1, Drug = d2, ..., Drug = dn)\n",
    "\n",
    "def buildQuery(st, genes=[], drugs=[]):\n",
    "    \n",
    "    # empty response\n",
    "    reasoner_std = { \"query_graph\": dict()}\n",
    "    \n",
    "    # empty query graph\n",
    "    reasoner_std[\"query_graph\"] = { \"edges\": [],\n",
    "                                    \"nodes\": []\n",
    "                                  }\n",
    "    \n",
    "    node_count = 0\n",
    "    edge_count = 0\n",
    "    \n",
    "    # add genes\n",
    "    for gene in genes:\n",
    "        reasoner_std['query_graph']['nodes'].append({ 'id':'n{}'.format(node_count),\n",
    "                                                      'type':'Gene',\n",
    "                                                      'curie':'{}'.format(gene[1])\n",
    "                                                   })\n",
    "        node_count += 1\n",
    "    \n",
    "    # add drugs\n",
    "    for drug in drugs:\n",
    "        reasoner_std['query_graph']['nodes'].append({ 'id':'n{}'.format(node_count),\n",
    "                                                      'type':'Drug',\n",
    "                                                      'curie':'{}'.format(drug[1])\n",
    "                                                   })\n",
    "        node_count += 1\n",
    "    \n",
    "    # add in disease node\n",
    "    disease = ('Breast_Cancer', 'MONDO:0007254')\n",
    "    reasoner_std['query_graph']['nodes'].append({ 'id':'n{}'.format(node_count),\n",
    "                                                  'type':'disease',\n",
    "                                                  'curie':'{}'.format(disease[1])\n",
    "                                                })\n",
    "    node_count += 1\n",
    "    \n",
    "    # link all evidence to disease\n",
    "    for node in reasoner_std['query_graph']['nodes']:\n",
    "        if node['type'] == 'Gene':\n",
    "            id = node['id']\n",
    "            reasoner_std['query_graph']['edges'].append({ 'id':'e{}'.format(edge_count),\n",
    "                                                          'type':'gene_to_disease_association',\n",
    "                                                          'source_id':'{}'.format(id),\n",
    "                                                          'target_id':'n{}'.format(node_count-1)\n",
    "                                                       })\n",
    "            edge_count += 1\n",
    "        elif node['type'] == 'Drug':\n",
    "            id = node['id']\n",
    "            reasoner_std['query_graph']['edges'].append({ 'id':'e{}'.format(edge_count),\n",
    "                                                          'type':'chemical_to_disease_or_phenotypic_feature_association',\n",
    "                                                          'source_id':'{}'.format(id),\n",
    "                                                          'target_id':'n{}'.format(node_count-1)\n",
    "                                                       })\n",
    "            edge_count += 1\n",
    "            \n",
    "    # add target survival node\n",
    "    phenotype = ('Survival_Time', 'EFO:0000714')\n",
    "    reasoner_std['query_graph']['nodes'].append({ 'id': 'n{}'.format(node_count),\n",
    "                                                  'type': 'PhenotypicFeature',\n",
    "                                                  'curie': '{}'.format(phenotype[1]),\n",
    "                                                })\n",
    "    node_count += 1\n",
    "    \n",
    "    # link disease to target\n",
    "    reasoner_std['query_graph']['edges'].append({ 'id':'e{}'.format(edge_count),\n",
    "                                                  'type':'disease_to_phenotype_association',\n",
    "                                                  'value':970,\n",
    "                                                  'source_id':'n{}'.format(node_count-2),\n",
    "                                                  'target_id':'n{}'.format(node_count-1)\n",
    "                                                })\n",
    "    return reasoner_std\n",
    "    "
   ]
  },
  {
   "cell_type": "code",
   "execution_count": 8,
   "metadata": {},
   "outputs": [],
   "source": [
    "def readGenes():\n",
    "    with open('gene_curie_map.csv', 'r') as gene_file:\n",
    "        reader = csv.reader(gene_file)\n",
    "        next(reader)\n",
    "        rows = [row for row in reader]\n",
    "    return rows"
   ]
  },
  {
   "cell_type": "code",
   "execution_count": 9,
   "metadata": {},
   "outputs": [],
   "source": [
    "def readDrugs():\n",
    "    with open('drug_curie_map.csv', 'r') as drug_file:\n",
    "        reader = csv.reader(drug_file)\n",
    "        next(reader)\n",
    "        rows = [row for row in reader]\n",
    "    return rows"
   ]
  },
  {
   "cell_type": "code",
   "execution_count": 10,
   "metadata": {},
   "outputs": [
    {
     "name": "stdout",
     "output_type": "stream",
     "text": [
      "Probability of survival > 1000 days is: 0.4\n"
     ]
    }
   ],
   "source": [
    "# list of genes we can query over\n",
    "#gene_list = readGenes()\n",
    "\n",
    "# list of genes we can query over\n",
    "#drug_list = readDrugs()\n",
    "\n",
    "# or pull from above lists\n",
    "genes = [('RAF1', 'ENSEMBL:ENSG00000132155'),\n",
    "         ('BRCA1', 'ENSEMBL:ENSG00000012048')]\n",
    "drugs = [('CYCLOPHOSPHAMIDE', 'CHEMBL:CHEMBL88')]\n",
    "survival_time = 1000\n",
    "\n",
    "# if genes or drugs is an empty list you can omit them\n",
    "query = buildQuery(survival_time, genes=genes, drugs=drugs)\n",
    "query['reasoner_id'] = 'exploring'\n",
    "payload = {'query': query}\n",
    "r = requests.post('http://chp.thayer.dartmouth.edu/submitQuery/', json=payload)\n",
    "chp_res = json.loads(r.content)\n",
    "\n",
    "QG = chp_res['query_graph']\n",
    "KG = chp_res['knowledge_graph']\n",
    "res = chp_res['results']\n",
    "\n",
    "# extract probability\n",
    "for edge in KG['edges']:\n",
    "    if edge['type'] == 'disease_to_phenotype_association':\n",
    "        p_survival = edge['has_confidence_level']\n",
    "\n",
    "# probability of surival given QG specification\n",
    "print(\"Probability of survival > {} days is:\".format(survival_time), p_survival)"
   ]
  },
  {
   "cell_type": "code",
   "execution_count": null,
   "metadata": {},
   "outputs": [],
   "source": []
  }
 ],
 "metadata": {
  "kernelspec": {
   "display_name": "Python 3",
   "language": "python",
   "name": "python3"
  },
  "language_info": {
   "codemirror_mode": {
    "name": "ipython",
    "version": 3
   },
   "file_extension": ".py",
   "mimetype": "text/x-python",
   "name": "python",
   "nbconvert_exporter": "python",
   "pygments_lexer": "ipython3",
   "version": "3.8.3"
  }
 },
 "nbformat": 4,
 "nbformat_minor": 4
}
