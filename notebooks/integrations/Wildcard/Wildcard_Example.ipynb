{
 "cells": [
  {
   "cell_type": "markdown",
   "metadata": {},
   "source": [
    "# Example Query for Survival Probability of 1-hop Queries\n",
    "\n",
    "Queries our system in the form of:<br>\n",
    "$P(survival\\_time > X | Drug \\wedge Disease)$<br>\n",
    "Returned is a knowledge graph containing probability of survival time and genes that contributed strongly to the question of survival time w.r.t a drug and disease. It is our hope that these have some indication of gene sensitivites."
   ]
  },
  {
   "cell_type": "code",
   "execution_count": 1,
   "metadata": {},
   "outputs": [],
   "source": [
    "import requests\n",
    "import json\n",
    "import csv"
   ]
  },
  {
   "cell_type": "markdown",
   "metadata": {},
   "source": [
    "# /predicate functionality example\n",
    "By running /predicates you can extract a json object with the following predicates:<br>\n",
    "1.) biolink:GeneToDiseaseAssociation<br>\n",
    "2.) biolink:ChemicalToDiseaseOrPhenotypicFeatureAssociation<br>\n",
    "3.) biolink:ChemicalToGeneAssociation<br>\n",
    "4.) biolink:DiseaseToPhenotypicFeatureAssociation<br>\n",
    "\n",
    "The above predicates match the following biolink entities:<br>\n",
    "1.) biolink:Gene<br>\n",
    "2.) biolink:Drug<br>\n",
    "3.) biolink:Disease<br>\n",
    "4.) biolink:PhenotypicFeature<br>\n",
    "\n",
    "It should be noted for this handler that only the edge predicates biolink:GeneToDiseaseAssociation, biolink:ChemicalToGeneAssociation and biolink:DiseaseToPhenotypicFeatureAssociation are used to link a biolink:Gene and a biolink:Drug node to the biolink:Disease node and the biolink:Disease node to the biolink:PhenotypicFeature node."
   ]
  },
  {
   "cell_type": "code",
   "execution_count": 2,
   "metadata": {},
   "outputs": [
    {
     "name": "stdout",
     "output_type": "stream",
     "text": [
      "{\n",
      "  \"biolink:Gene\": {\n",
      "    \"biolink:Disease\": [\n",
      "      \"biolink:GeneToDiseaseAssociation\"\n",
      "    ]\n",
      "  },\n",
      "  \"biolink:Drug\": {\n",
      "    \"biolink:Disease\": [\n",
      "      \"biolink:ChemicalToDiseaseOrPhenotypicFeatureAssociation\"\n",
      "    ],\n",
      "    \"biolink:Gene\": [\n",
      "      \"biolink:ChemicalToGeneAssociation\"\n",
      "    ]\n",
      "  },\n",
      "  \"biolink:Disease\": {\n",
      "    \"biolink:PhenotypicFeature\": [\n",
      "      \"biolink:DiseaseToPhenotypicFeatureAssociation\"\n",
      "    ]\n",
      "  }\n",
      "}\n"
     ]
    }
   ],
   "source": [
    "r = requests.get('http://chp.thayer.dartmouth.edu/predicates/')\n",
    "json_formatted_str = json.dumps(json.loads(r.content), indent=2)\n",
    "print(json_formatted_str)"
   ]
  },
  {
   "cell_type": "markdown",
   "metadata": {},
   "source": [
    "# Build Query\n",
    "Constructs a json query object and can take in a survival time, a disease and a drug."
   ]
  },
  {
   "cell_type": "code",
   "execution_count": 3,
   "metadata": {},
   "outputs": [],
   "source": [
    "# Function: buildQuery\n",
    "#\n",
    "# Input:\n",
    "# -----------\n",
    "# survival time, a disease and a drug\n",
    "#\n",
    "# Output:\n",
    "# -----------\n",
    "# A query graph that asks this probablistic question: \n",
    "# P(survival_time > X | Drug = d1 and Disease = Breast Cancer)\n",
    "\n",
    "def buildQuery(st, disease, drug):\n",
    "    \n",
    "    # empty response\n",
    "    reasoner_std = { \"query_graph\": dict(),\n",
    "                     \"knowledge_graph\": dict(),\n",
    "                     \"results\": list()\n",
    "                   }\n",
    "    # empty query graph\n",
    "    reasoner_std[\"query_graph\"] = { \"edges\": dict(),\n",
    "                                    \"nodes\": dict()\n",
    "                                  }\n",
    "    # empty knowledge graph\n",
    "    reasoner_std[\"knowledge_graph\"] = { \"edges\": dict(),\n",
    "                                        \"nodes\": dict()\n",
    "                                      }\n",
    "    \n",
    "    node_count = 0\n",
    "    edge_count = 0\n",
    "    \n",
    "    # wildcard gene slot\n",
    "    reasoner_std['query_graph']['nodes']['n{}'.format(node_count)] = { 'category':'biolink:Gene',\n",
    "                                                                     }\n",
    "    node_count += 1\n",
    "    \n",
    "    # drug\n",
    "    reasoner_std['query_graph']['nodes']['n{}'.format(node_count)] = { 'category':'biolink:Drug',\n",
    "                                                                       'id':'{}'.format(drug[1])\n",
    "                                                                     }\n",
    "    node_count += 1\n",
    "    \n",
    "    # add in disease node\n",
    "    reasoner_std['query_graph']['nodes']['n{}'.format(node_count)] = { 'category':'biolink:Disease',\n",
    "                                                                       'id':'{}'.format(disease[1])\n",
    "                                                                     }\n",
    "    node_count += 1\n",
    "    \n",
    "    # link gene evidence to disease\n",
    "    reasoner_std['query_graph']['edges']['e{}'.format(edge_count)] = { 'predicate':'biolink:GeneToDiseaseAssociation',\n",
    "                                                                       'subject': 'n{}'.format(node_count -3),\n",
    "                                                                       'object': 'n{}'.format(node_count -1)   # should be disease node\n",
    "                                                                      }\n",
    "    edge_count += 1\n",
    "    \n",
    "    # link drug evidence to disease\n",
    "    reasoner_std['query_graph']['edges']['e{}'.format(edge_count)] = { 'predicate':'biolink:ChemicalToDiseaseOrPhenotypicFeatureAssociation',\n",
    "                                                                       'subject': 'n{}'.format(node_count -2),\n",
    "                                                                       'object': 'n{}'.format(node_count -1)  # should be disease node\n",
    "                                                                     }\n",
    "    edge_count += 1\n",
    "            \n",
    "    # add target survival node\n",
    "    phenotype = ('Survival_Time', 'EFO:0000714')\n",
    "    reasoner_std['query_graph']['nodes']['n{}'.format(node_count)] = { 'category': 'biolink:PhenotypicFeature',\n",
    "                                                                       'id': '{}'.format(phenotype[1]),\n",
    "                                                                     }\n",
    "    node_count += 1\n",
    "    \n",
    "    # link disease to target\n",
    "    reasoner_std['query_graph']['edges']['e{}'.format(edge_count)] = { 'predicate':'biolink:DiseaseToPhenotypicFeatureAssociation',\n",
    "                                                                       'subject': 'n{}'.format(node_count-2),\n",
    "                                                                       'object': 'n{}'.format(node_count-1),\n",
    "                                                                       'properties': { 'qualifier':'>=',\n",
    "                                                                                       'days': st\n",
    "                                                                                     }\n",
    "                                                                     }\n",
    "    return reasoner_std"
   ]
  },
  {
   "cell_type": "markdown",
   "metadata": {},
   "source": [
    "# Read Drugs\n",
    "Functionality to read in our set of available drugs with respective chembl curie IDs."
   ]
  },
  {
   "cell_type": "code",
   "execution_count": 4,
   "metadata": {},
   "outputs": [],
   "source": [
    "def readDrugs():\n",
    "    with open('drug_curie_map.csv', 'r') as drug_file:\n",
    "        reader = csv.reader(drug_file)\n",
    "        next(reader)\n",
    "        rows = [(row[0],row[1]) for row in reader]\n",
    "    return rows"
   ]
  },
  {
   "cell_type": "markdown",
   "metadata": {},
   "source": [
    "# Constructing the Query and pinging CHP\n",
    "You can use the commented out functionality to check which drugs are available. Disease and drug are passed in as a tuple shown below. Currently only breast cancer can be used as the disease."
   ]
  },
  {
   "cell_type": "code",
   "execution_count": 5,
   "metadata": {
    "scrolled": false
   },
   "outputs": [],
   "source": [
    "# list of drugs (and curies) we can query over\n",
    "#drug_list = readDrugs()\n",
    "\n",
    "survival_time = 1000\n",
    "disease = ('Breast_Cancer', 'MONDO:0007254')\n",
    "drug = ('CYCLOPHOSPHAMIDE', 'CHEMBL:CHEMBL88')\n",
    "\n",
    "query = buildQuery(survival_time, disease, drug)\n",
    "payload = {'message': query}\n",
    "\n",
    "r = requests.post('http://chp.thayer.dartmouth.edu/query/', json=payload)\n",
    "chp_res = json.loads(r.content)"
   ]
  },
  {
   "cell_type": "markdown",
   "metadata": {},
   "source": [
    "# Extract sensitive genes\n",
    "The very first result will be for the predicted survivability. Every result thereafter contains a gene with its respective sensitivity. Sensitivty values range between -1 and 1. Genes closer to -1 can be thought of as having contributed more to the false assignment of $P(survival\\_time > X | Drug \\wedge Disease)$. Similarly genes closer to 1 can be thought of as having contributed more to the true assignment. Gene sensitivities are order by their absolute value.\n",
    "\n",
    "## 1. Extract predicted survivability"
   ]
  },
  {
   "cell_type": "code",
   "execution_count": 6,
   "metadata": {},
   "outputs": [
    {
     "name": "stdout",
     "output_type": "stream",
     "text": [
      "P(survival_time > 1000 | drug & disease): 0.5310173697270472\n"
     ]
    }
   ],
   "source": [
    "KG = chp_res['message']['knowledge_graph']\n",
    "QG = chp_res['message']['query_graph']\n",
    "results = chp_res['message']['results']\n",
    "\n",
    "# holds probability of survival\n",
    "survival_result = results[0]\n",
    "\n",
    "for qge_id in survival_result['edge_bindings'].keys():\n",
    "    if QG['edges'][qge_id]['predicate'] == 'biolink:DiseaseToPhenotypicFeatureAssociation':\n",
    "        kge_id = survival_result['edge_bindings'][qge_id][0]['id']\n",
    "        probability = KG['edges'][kge_id]['has_confidence_level']\n",
    "        \n",
    "print(\"P(survival_time > {} | drug & disease):\".format(survival_time),probability)"
   ]
  },
  {
   "cell_type": "markdown",
   "metadata": {},
   "source": [
    "## 2. Extract sensitive gene rankings"
   ]
  },
  {
   "cell_type": "code",
   "execution_count": 7,
   "metadata": {},
   "outputs": [
    {
     "name": "stdout",
     "output_type": "stream",
     "text": [
      "('ENSEMBL:ENSG00000141510', 'TP53', -0.017925134747564825)\n",
      "('ENSEMBL:ENSG00000129003', 'VPS13C', -0.01587301587301598)\n",
      "('ENSEMBL:ENSG00000198626', 'RYR2', 0.015118923997428766)\n",
      "('ENSEMBL:ENSG00000121879', 'PIK3CA', 0.015057113187954399)\n",
      "('ENSEMBL:ENSG00000111642', 'CHD4', -0.013536567274885123)\n",
      "('ENSEMBL:ENSG00000196632', 'WNK3', -0.013536567274885123)\n",
      "('ENSEMBL:ENSG00000169855', 'ROBO1', -0.013227513227513315)\n",
      "('ENSEMBL:ENSG00000118473', 'SGIP1', -0.013227513227513315)\n",
      "('ENSEMBL:ENSG00000005810', 'MYCBP2', -0.013227513227513315)\n",
      "('ENSEMBL:ENSG00000163554', 'SPTA1', 0.013091529446669718)\n"
     ]
    }
   ],
   "source": [
    "KG = chp_res['message']['knowledge_graph']\n",
    "QG = chp_res['message']['query_graph']\n",
    "results = chp_res['message']['results']\n",
    "\n",
    "# holds gene sensitivites\n",
    "sensitivity_results = results[1:]\n",
    "\n",
    "genes = []\n",
    "for sr in sensitivity_results:\n",
    "    for qge_id in sr['edge_bindings'].keys():\n",
    "        if QG['edges'][qge_id]['predicate'] == 'biolink:GeneToDiseaseAssociation':\n",
    "            kge_id = sr['edge_bindings'][qge_id][0]['id']\n",
    "            sensitivity = KG['edges'][kge_id]\n",
    "            gene_curie = sensitivity['subject']\n",
    "            gene_weight = sensitivity['value']    \n",
    "    for qgn_id in sr['node_bindings'].keys():\n",
    "        if QG['nodes'][qgn_id]['category'] == 'biolink:Gene':\n",
    "            kgn_id = sr['node_bindings'][qgn_id][0]['id']\n",
    "            gene_name = KG['nodes'][kgn_id]['name']\n",
    "    genes.append((gene_name, gene_curie, gene_weight))\n",
    "    \n",
    "for gene in genes:\n",
    "    print(gene)"
   ]
  },
  {
   "cell_type": "code",
   "execution_count": null,
   "metadata": {},
   "outputs": [],
   "source": []
  }
 ],
 "metadata": {
  "kernelspec": {
   "display_name": "Python 3",
   "language": "python",
   "name": "python3"
  },
  "language_info": {
   "codemirror_mode": {
    "name": "ipython",
    "version": 3
   },
   "file_extension": ".py",
   "mimetype": "text/x-python",
   "name": "python",
   "nbconvert_exporter": "python",
   "pygments_lexer": "ipython3",
   "version": "3.8.3"
  }
 },
 "nbformat": 4,
 "nbformat_minor": 2
}
