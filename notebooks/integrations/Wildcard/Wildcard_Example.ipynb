{
 "cells": [
  {
   "cell_type": "markdown",
   "metadata": {},
   "source": [
    "# Example Query for Survival Probability of 1-hop Queries\n",
    "\n",
    "Queries our system in the form of:<br>\n",
    "$P(survival\\_time > X | Drug \\wedge Disease)$<br>\n",
    "Returned is a knowledge graph containing probability of survival time and genes sensitive to that drug in the context of the disease"
   ]
  },
  {
   "cell_type": "code",
   "execution_count": 1,
   "metadata": {},
   "outputs": [],
   "source": [
    "import requests\n",
    "import json\n",
    "import csv"
   ]
  },
  {
   "cell_type": "markdown",
   "metadata": {},
   "source": [
    "# /predicate functionality example\n",
    "By running /predicates you can extract a json object with the following predicates:<br>\n",
    "1.) gene_to_disease_association<br>\n",
    "2.) chemical_to_disease_or_phenotypic_feature_association<br>\n",
    "3.) disease_to_phenotypic_association<br>\n",
    "\n",
    "The above predicates match the following biolink entities:<br>\n",
    "1.) gene<br>\n",
    "2.) drug<br>\n",
    "3.) disease<br>\n",
    "4.) phenotypicfeature"
   ]
  },
  {
   "cell_type": "code",
   "execution_count": 2,
   "metadata": {},
   "outputs": [
    {
     "name": "stdout",
     "output_type": "stream",
     "text": [
      "{\n",
      "  \"gene\": {\n",
      "    \"disease\": [\n",
      "      \"gene_to_disease_association\"\n",
      "    ]\n",
      "  },\n",
      "  \"chemical_substance\": {\n",
      "    \"disease\": [\n",
      "      \"chemical_to_disease_or_phenotypic_feature_association\"\n",
      "    ]\n",
      "  },\n",
      "  \"disease\": {\n",
      "    \"phenotypic_feature\": [\n",
      "      \"disease_to_phenotypic_feature_association\"\n",
      "    ]\n",
      "  }\n",
      "}\n"
     ]
    }
   ],
   "source": [
    "r = requests.get('http://chp.thayer.dartmouth.edu/predicates/')\n",
    "json_formatted_str = json.dumps(json.loads(r.content), indent=2)\n",
    "print(json_formatted_str)"
   ]
  },
  {
   "cell_type": "markdown",
   "metadata": {},
   "source": [
    "# Build Query\n",
    "constructs a json query object and can take in a survival time, a disease and a single drug"
   ]
  },
  {
   "cell_type": "code",
   "execution_count": 3,
   "metadata": {},
   "outputs": [],
   "source": [
    "# Function: buildQuery\n",
    "#\n",
    "# Input:\n",
    "# -----------\n",
    "# a single drug\n",
    "#\n",
    "# Output:\n",
    "# -----------\n",
    "# A query graph that asks this probablistic question: \n",
    "# P(survival_time > X | Drug = d1 and Disease = Breast Cancer)\n",
    "\n",
    "def buildQuery(st, disease, drug):\n",
    "    \n",
    "    # empty response\n",
    "    reasoner_std = { \"query_graph\": dict(),\n",
    "                     \"knowledge_graph\": dict(),\n",
    "                     \"results\": list()\n",
    "                   }\n",
    "    # empty query graph\n",
    "    reasoner_std[\"query_graph\"] = { \"edges\": dict(),\n",
    "                                    \"nodes\": dict()\n",
    "                                  }\n",
    "    # empty knowledge graph\n",
    "    reasoner_std[\"knowledge_graph\"] = { \"edges\": dict(),\n",
    "                                        \"nodes\": dict()\n",
    "                                      }\n",
    "    # empty response graph\n",
    "    reasoner_std[\"results\"] = [{ \"node_bindings\": dict(),\n",
    "                                 \"edge_bindings\": dict()\n",
    "                              }]\n",
    "    \n",
    "    node_count = 0\n",
    "    edge_count = 0\n",
    "    \n",
    "    # wildcard gene slot\n",
    "    reasoner_std['query_graph']['nodes']['n{}'.format(node_count)] = { 'type':'gene',\n",
    "                                                                         }\n",
    "    node_count += 1\n",
    "    \n",
    "    # drug\n",
    "    reasoner_std['query_graph']['nodes']['n{}'.format(node_count)] = { 'type':'chemical_substance',\n",
    "                                                                           'curie':'{}'.format(drug[1])\n",
    "                                                                         }\n",
    "    node_count += 1\n",
    "    \n",
    "    # add in disease node\n",
    "    reasoner_std['query_graph']['nodes']['n{}'.format(node_count)] = { 'type':'disease',\n",
    "                                                                       'curie':'{}'.format(disease[1])\n",
    "                                                                     }\n",
    "    node_count += 1\n",
    "    \n",
    "    # link gene evidence to disease\n",
    "    reasoner_std['query_graph']['edges']['e{}'.format(edge_count)] = { 'type':'gene_to_disease_association',\n",
    "                                                                       'source_id': 'n{}'.format(node_count -3),\n",
    "                                                                       'target_id': 'n{}'.format(node_count -1)   # should be disease node\n",
    "                                                                      }\n",
    "    edge_count += 1\n",
    "    \n",
    "    # link drug evidence to disease\n",
    "    reasoner_std['query_graph']['edges']['e{}'.format(edge_count)] = { 'type':'chemical_to_disease_or_phenotypic_feature_association',\n",
    "                                                                       'source_id': 'n{}'.format(node_count -2),\n",
    "                                                                       'target_id': 'n{}'.format(node_count -1)  # should be disease node\n",
    "                                                                     }\n",
    "    edge_count += 1\n",
    "            \n",
    "    # add target survival node\n",
    "    phenotype = ('Survival_Time', 'EFO:0000714')\n",
    "    reasoner_std['query_graph']['nodes']['n{}'.format(node_count)] = { 'type': 'phenotypic_feature',\n",
    "                                                                       'curie': '{}'.format(phenotype[1]),\n",
    "                                                                     }\n",
    "    node_count += 1\n",
    "    \n",
    "    # link disease to target\n",
    "    reasoner_std['query_graph']['edges']['e{}'.format(edge_count)] = { 'type':'disease_to_phenotypic_feature_association',\n",
    "                                                                       'source_id': 'n{}'.format(node_count-2),\n",
    "                                                                       'target_id': 'n{}'.format(node_count-1),\n",
    "                                                                       'properties': { 'qualifier':'>=',\n",
    "                                                                                       'value': st\n",
    "                                                                                     }\n",
    "                                                                     }\n",
    "    return reasoner_std"
   ]
  },
  {
   "cell_type": "markdown",
   "metadata": {},
   "source": [
    "# Read Genes and Drugs\n",
    "Functionality to read in our set of available genes and drugs with respective ensemble and chembl curie IDs."
   ]
  },
  {
   "cell_type": "code",
   "execution_count": 4,
   "metadata": {},
   "outputs": [],
   "source": [
    "def readGenes():\n",
    "    with open('gene_curie_map.csv', 'r') as gene_file:\n",
    "        reader = csv.reader(gene_file)\n",
    "        next(reader)\n",
    "        rows = [(row[0],row[1]) for row in reader]\n",
    "    return rows"
   ]
  },
  {
   "cell_type": "code",
   "execution_count": 5,
   "metadata": {},
   "outputs": [],
   "source": [
    "def readDrugs():\n",
    "    with open('drug_curie_map.csv', 'r') as drug_file:\n",
    "        reader = csv.reader(drug_file)\n",
    "        next(reader)\n",
    "        rows = [(row[0],row[1]) for row in reader]\n",
    "    return rows"
   ]
  },
  {
   "cell_type": "markdown",
   "metadata": {},
   "source": [
    "# Constructing the Query and pinging CHP\n",
    "You can use the commented out functionality to check which drugs are available. Disease and dryg are passed in as a tuple shown below. Currently only breast cancer can be used as the disease."
   ]
  },
  {
   "cell_type": "code",
   "execution_count": 6,
   "metadata": {
    "scrolled": false
   },
   "outputs": [],
   "source": [
    "# list of drugs (and curies) we can query over\n",
    "#drug_list = readDrugs()\n",
    "\n",
    "survival_time = 1000\n",
    "disease = ('Breast_Cancer', 'MONDO:0007254')\n",
    "drug = ('CYCLOPHOSPHAMIDE', 'CHEMBL:CHEMBL88')\n",
    "\n",
    "query = buildQuery(survival_time, disease, drug)\n",
    "payload = {'message': query}\n",
    "\n",
    "r = requests.post('http://chp.thayer.dartmouth.edu/query/', json=payload)\n",
    "chp_res = json.loads(r.content)"
   ]
  },
  {
   "cell_type": "markdown",
   "metadata": {},
   "source": [
    "# Extract sensitive genes\n",
    "The very first result will be for the predicted survivability. Every result thereafter contains a gene with its respective sensitivity. Sensitivty values range between -1 and 1. Genes closer to -1 can be thought of as having contributed more to the false assignment of $P(survival\\_time > X | Drug \\wedge Disease)$. Similarly genes closer to 1 can be thought of as having contributed more to the true assignment. Gene sensitivities are order by their absolute value.\n",
    "\n",
    "## 1. Extract predicted survivability"
   ]
  },
  {
   "cell_type": "code",
   "execution_count": 7,
   "metadata": {},
   "outputs": [
    {
     "name": "stdout",
     "output_type": "stream",
     "text": [
      "P(survival_time > 1000 | drug & disease): 0.6221198156682027\n"
     ]
    }
   ],
   "source": [
    "KG = chp_res['message']['knowledge_graph']\n",
    "QG = chp_res['message']['query_graph']\n",
    "results = chp_res['message']['results']\n",
    "\n",
    "# holds probability of survival\n",
    "survival_result = results[0]\n",
    "\n",
    "for qge_id in survival_result['edge_bindings'].keys():\n",
    "    if QG['edges'][qge_id]['type'] == 'disease_to_phenotypic_feature_association':\n",
    "        kge_id = survival_result['edge_bindings'][qge_id]['kg_id']\n",
    "        survival = KG['edges'][kge_id]['has_confidence_level']\n",
    "        \n",
    "print(\"P(survival_time > {} | drug & disease):\".format(survival_time),survival)"
   ]
  },
  {
   "cell_type": "markdown",
   "metadata": {},
   "source": [
    "## 2. Extract sensitive gene rankings"
   ]
  },
  {
   "cell_type": "code",
   "execution_count": 8,
   "metadata": {},
   "outputs": [
    {
     "name": "stdout",
     "output_type": "stream",
     "text": [
      "('PIK3CA', 'ENSEMBL:ENSG00000121879', 0.05081300813008113)\n",
      "('RYR2', 'ENSEMBL:ENSG00000198626', 0.03355916892502249)\n",
      "('ROCK1', 'ENSEMBL:ENSG00000067900', -0.03288166214995473)\n",
      "('RBMXL3', 'ENSEMBL:ENSG00000175718', -0.030487804878048686)\n",
      "('CBFB', 'ENSEMBL:ENSG00000067955', -0.026784101174344994)\n",
      "('GRID2', 'ENSEMBL:ENSG00000152208', 0.025925925925925845)\n",
      "('ANKAR', 'ENSEMBL:ENSG00000151687', 0.025925925925925845)\n",
      "('CCDC185', 'ENSEMBL:ENSG00000178395', -0.02439024390243895)\n",
      "('WHSC1L1', 'ENSEMBL:ENSG00000147548', -0.02439024390243895)\n",
      "('KLHL28', 'ENSEMBL:ENSG00000179454', -0.02439024390243895)\n"
     ]
    }
   ],
   "source": [
    "KG = chp_res['message']['knowledge_graph']\n",
    "QG = chp_res['message']['query_graph']\n",
    "results = chp_res['message']['results']\n",
    "\n",
    "# holds gene sensitivites\n",
    "sensitivity_results = results[1:]\n",
    "\n",
    "genes = []\n",
    "for sr in sensitivity_results:\n",
    "    for qge_id in sr['edge_bindings'].keys():\n",
    "        if QG['edges'][qge_id]['type'] == 'gene_to_disease_association':\n",
    "            kge_id = sr['edge_bindings'][qge_id]['kg_id']\n",
    "            sensitivity = KG['edges'][kge_id]\n",
    "            gene_curie = sensitivity['source_id']\n",
    "            gene_weight = sensitivity['weight']    \n",
    "    for qgn_id in sr['node_bindings'].keys():\n",
    "        if QG['nodes'][qgn_id]['type'] == 'gene':\n",
    "            kgn_id = sr['node_bindings'][qgn_id]['kg_id']\n",
    "            gene_name = KG['nodes'][kgn_id]['name']\n",
    "    genes.append((gene_name, gene_curie, gene_weight))\n",
    "    \n",
    "for gene in genes:\n",
    "    print(gene)"
   ]
  },
  {
   "cell_type": "code",
   "execution_count": null,
   "metadata": {},
   "outputs": [],
   "source": []
  }
 ],
 "metadata": {
  "kernelspec": {
   "display_name": "Python 3",
   "language": "python",
   "name": "python3"
  },
  "language_info": {
   "codemirror_mode": {
    "name": "ipython",
    "version": 3
   },
   "file_extension": ".py",
   "mimetype": "text/x-python",
   "name": "python",
   "nbconvert_exporter": "python",
   "pygments_lexer": "ipython3",
   "version": "3.8.3"
  }
 },
 "nbformat": 4,
 "nbformat_minor": 2
}
