{
 "cells": [
  {
   "cell_type": "markdown",
   "metadata": {},
   "source": [
    "# Example Query for Survival Probability of 1-hop Queries\n",
    "\n",
    "Queries our system in the form of:<br>\n",
    "$P(survival\\_time > 970 | Mut\\_g_1 = True, Mut\\_g_2 = True, ..., Mut\\_g_n = True, Drug = d_1, Drug = d_2, ..., Drug = d_n)$<br>\n",
    "Returned is a knowledge graph containing probability of survival time."
   ]
  },
  {
   "cell_type": "code",
   "execution_count": 21,
   "metadata": {},
   "outputs": [],
   "source": [
    "import requests\n",
    "import json\n",
    "import csv"
   ]
  },
  {
   "cell_type": "code",
   "execution_count": 22,
   "metadata": {},
   "outputs": [],
   "source": [
    "# Function: buildQuery\n",
    "#\n",
    "# Input:\n",
    "# -----------\n",
    "# list of gene and drug tuples\n",
    "#\n",
    "# Output:\n",
    "# -----------\n",
    "# A query graph that answers this probablistic question: \n",
    "# P(survival_time > 1000 | Mut_g1 = True, Mut_g2 = True, ..., Mut_gn = True, Drug = d1, Drug = d2, ..., Drug = dn)\n",
    "# Drugs can be left empty, but Genes CANNOT\n",
    "\n",
    "def buildQuery(st, genes=[], drugs=[]):\n",
    "    \n",
    "    # empty response\n",
    "    reasoner_std = { \"query_graph\": dict()}\n",
    "    \n",
    "    # empty query graph\n",
    "    reasoner_std[\"query_graph\"] = { \"edges\": [],\n",
    "                                    \"nodes\": []\n",
    "                                  }\n",
    "    \n",
    "    node_count = 0\n",
    "    edge_count = 0\n",
    "    \n",
    "    # add genes\n",
    "    for gene in genes:\n",
    "        reasoner_std['query_graph']['nodes'].append({ 'id':'n{}'.format(node_count),\n",
    "                                                      'type':'Gene',\n",
    "                                                      'curie':'{}'.format(gene[1])\n",
    "                                                   })\n",
    "        node_count += 1\n",
    "    \n",
    "    # add drugs\n",
    "    for drug in drugs:\n",
    "        reasoner_std['query_graph']['nodes'].append({ 'id':'n{}'.format(node_count),\n",
    "                                                      'type':'Drug',\n",
    "                                                      'curie':'{}'.format(drug[1])\n",
    "                                                   })\n",
    "        node_count += 1\n",
    "    \n",
    "    # add in disease node\n",
    "    disease = ('Breast_Cancer', 'MONDO:0007254')\n",
    "    reasoner_std['query_graph']['nodes'].append({ 'id':'n{}'.format(node_count),\n",
    "                                                  'type':'disease',\n",
    "                                                  'curie':'{}'.format(disease[1])\n",
    "                                                })\n",
    "    node_count += 1\n",
    "    \n",
    "    # link all evidence to disease\n",
    "    for node in reasoner_std['query_graph']['nodes']:\n",
    "        if node['type'] == 'Gene':\n",
    "            id = node['id']\n",
    "            reasoner_std['query_graph']['edges'].append({ 'id':'e{}'.format(edge_count),\n",
    "                                                          'type':'gene_to_disease_association',\n",
    "                                                          'source_id':'{}'.format(id),\n",
    "                                                          'target_id':'n{}'.format(node_count-1)\n",
    "                                                       })\n",
    "            edge_count += 1\n",
    "        elif node['type'] == 'Drug':\n",
    "            id = node['id']\n",
    "            reasoner_std['query_graph']['edges'].append({ 'id':'e{}'.format(edge_count),\n",
    "                                                          'type':'chemical_to_disease_or_phenotypic_feature_association',\n",
    "                                                          'source_id':'{}'.format(id),\n",
    "                                                          'target_id':'n{}'.format(node_count-1)\n",
    "                                                       })\n",
    "            edge_count += 1\n",
    "            \n",
    "    # add target survival node\n",
    "    phenotype = ('Survival_Time', 'EFO:0000714')\n",
    "    reasoner_std['query_graph']['nodes'].append({ 'id': 'n{}'.format(node_count),\n",
    "                                                  'type': 'PhenotypicFeature',\n",
    "                                                  'curie': '{}'.format(phenotype[1]),\n",
    "                                                })\n",
    "    node_count += 1\n",
    "    \n",
    "    # link disease to target\n",
    "    reasoner_std['query_graph']['edges'].append({ 'id':'e{}'.format(edge_count),\n",
    "                                                  'type':'disease_to_phenotype_association',\n",
    "                                                  'value':st,\n",
    "                                                  'source_id':'n{}'.format(node_count-2),\n",
    "                                                  'target_id':'n{}'.format(node_count-1)\n",
    "                                                })\n",
    "    return reasoner_std"
   ]
  },
  {
   "cell_type": "code",
   "execution_count": 23,
   "metadata": {},
   "outputs": [],
   "source": [
    "def readGenes():\n",
    "    with open('gene_curie_map.csv', 'r') as gene_file:\n",
    "        reader = csv.reader(gene_file)\n",
    "        next(reader)\n",
    "        rows = [row for row in reader]\n",
    "    return rows"
   ]
  },
  {
   "cell_type": "code",
   "execution_count": 24,
   "metadata": {},
   "outputs": [],
   "source": [
    "def readDrugs():\n",
    "    with open('drug_curie_map.csv', 'r') as drug_file:\n",
    "        reader = csv.reader(drug_file)\n",
    "        next(reader)\n",
    "        rows = [row for row in reader]\n",
    "    return rows"
   ]
  },
  {
   "cell_type": "code",
   "execution_count": 26,
   "metadata": {
    "scrolled": false
   },
   "outputs": [
    {
     "name": "stdout",
     "output_type": "stream",
     "text": [
      "Probability of survival > 970 days is: 0.006155376747353221\n"
     ]
    }
   ],
   "source": [
    "# list of genes (and curies) we can query over\n",
    "#gene_list = readGenes()\n",
    "\n",
    "# list of drugs (and curies) we can query over\n",
    "#drug_list = readDrugs()\n",
    "\n",
    "# or pull from above lists\n",
    "genes = [('RAF1', 'ENSEMBL:ENSG00000132155'),\n",
    "         ('MAP3K13','ENSEMBL:ENSG00000073803')]\n",
    "drugs = []\n",
    "survival_time = 970\n",
    "# if genes or drugs is an empty list you can omit them\n",
    "query = buildQuery(survival_time, genes=genes, drugs=drugs)\n",
    "query['reasoner_id'] = 'unsecret'\n",
    "payload = {'query': query}\n",
    "\n",
    "r = requests.post('http://chp.thayer.dartmouth.edu/submitQuery/', json=payload)\n",
    "chp_res = json.loads(r.content)\n",
    "\n",
    "QG = chp_res['query_graph']\n",
    "KG = chp_res['knowledge_graph']\n",
    "res = chp_res['results']\n",
    "\n",
    "# extract probability\n",
    "for edge in KG['edges']:\n",
    "    if edge['type'] == 'disease_to_phenotype_association':\n",
    "        p_survival = edge['has_confidence_level']\n",
    "        Contribution = edge['Description']\n",
    "\n",
    "# probability of surival given QG specification\n",
    "print(\"Probability of survival > 970 days is:\", p_survival)"
   ]
  },
  {
   "cell_type": "markdown",
   "metadata": {},
   "source": [
    "We can access the feature contributions to our query by navigating the Contriution report. Contributions are ranked by most contributing to least under each truth assignment."
   ]
  },
  {
   "cell_type": "code",
   "execution_count": 20,
   "metadata": {},
   "outputs": [
    {
     "name": "stdout",
     "output_type": "stream",
     "text": [
      "Evidence supporting P(Survival_Time >= 970 | Evidence) == True:\n",
      "\tAge_of_Diagnosis 21113.81249257478 - 29560.278692835553 : 2.581601925858197e-05\n",
      "\tStage_T == T1 : 2.4880703020252804e-05\n",
      "\tStage_N == N0 : 2.3945386781923637e-05\n",
      "\tStage_M == M0 : 2.301007054359447e-05\n",
      "\tDrug_Name(s) == CYTOXAN = True : 2.2074754305265302e-05\n",
      "\tDrug_Name(s) == TAMOXIFEN = True : 2.1139438066936135e-05\n",
      "\tDrug_Name(s) == DOXORUBICIN = True : 2.020412182860697e-05\n",
      "\tmut_RAF1 = True : 1.5527540636961135e-05\n",
      "\tmut_MAP3K13 = True : 1.4692712857683897e-05\n",
      "\tmut_PIK3CA = True : 1.7701440176064054e-06\n",
      "\tmut_MAP3K13 = False : 1.7701440176064054e-06\n",
      "\tmut_TTN = True : 9.353162383291668e-07\n",
      "\tmut_RAF1 = False : 9.353162383291668e-07\n",
      "Evidence supporting P(Survival_Time >= 970 | Evidence) == False:\n",
      "\tAge_of_Diagnosis 17217.23703040372 - 26168.902787225456 : 3.212108479294976e-05\n",
      "\tStage_T == T4 : 3.1111482330903835e-05\n",
      "\tStage_N == N3 : 3.0101879868857913e-05\n",
      "\tStage_M == M1 : 2.909227740681199e-05\n",
      "\tDrug_Name(s) == CYCLOPHOSPHAMIDE = True : 2.8082674944766065e-05\n",
      "\tDrug_Name(s) == TAMOXIFEN = True : 2.7073072482720143e-05\n",
      "\tDrug_Name(s) == CYTOXAN = True : 2.606347002067422e-05\n",
      "\tmut_RAF1 = True : 2.1015457710444607e-05\n",
      "\tmut_MAP3K13 = True : 1.9364953126219053e-05\n",
      "\tmut_PIK3CA = True : 2.6601070462714767e-06\n",
      "\tmut_MAP3K13 = False : 2.6601070462714767e-06\n",
      "\tmut_TTN = True : 1.009602462045923e-06\n",
      "\tmut_RAF1 = False : 1.009602462045923e-06\n"
     ]
    }
   ],
   "source": [
    "contribution_analysis = Contribution['Contribution Analysis']\n",
    "\n",
    "# First we access the features that highly contributed to our probability for the Truth assignment\n",
    "print(\"Evidence supporting P(Survival_Time >= 970 | Evidence) == True:\")\n",
    "for k,v in contribution_analysis['Survival_Time >= 970 = True'].items():\n",
    "    print('\\t{} : {}'.format(k,v))\n",
    "    \n",
    "# Next we access the features that highly contributed to our probability for the False assignment\n",
    "print(\"Evidence supporting P(Survival_Time >= 970 | Evidence) == False:\")\n",
    "for k,v in contribution_analysis['Survival_Time >= 970 = False'].items():\n",
    "    print('\\t{} : {}'.format(k,v))"
   ]
  },
  {
   "cell_type": "code",
   "execution_count": null,
   "metadata": {},
   "outputs": [],
   "source": []
  }
 ],
 "metadata": {
  "kernelspec": {
   "display_name": "Python 3",
   "language": "python",
   "name": "python3"
  },
  "language_info": {
   "codemirror_mode": {
    "name": "ipython",
    "version": 3
   },
   "file_extension": ".py",
   "mimetype": "text/x-python",
   "name": "python",
   "nbconvert_exporter": "python",
   "pygments_lexer": "ipython3",
   "version": "3.8.3"
  }
 },
 "nbformat": 4,
 "nbformat_minor": 2
}
