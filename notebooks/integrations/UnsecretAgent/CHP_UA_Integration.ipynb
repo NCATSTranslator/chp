{
 "cells": [
  {
   "cell_type": "markdown",
   "metadata": {},
   "source": [
    "# Example Query for sensitive patients\n",
    "\n",
    "Takes list of mutated genes and forms it into a mock patient profile. Queries out system in the form of:\n",
    "P(survival_time > 1000 | g1_mut = True, g2_mut = True, ..., gn_mut = True). \n",
    "Returned is a knowledge graph contained probability of survival time and a description containing sensitive patients used in the inference."
   ]
  },
  {
   "cell_type": "code",
   "execution_count": 1,
   "metadata": {},
   "outputs": [],
   "source": [
    "import requests\n",
    "import json\n",
    "import csv"
   ]
  },
  {
   "cell_type": "code",
   "execution_count": 2,
   "metadata": {},
   "outputs": [],
   "source": [
    "# Function: buildQuery\n",
    "#\n",
    "# Input:\n",
    "# -----------\n",
    "# list of gene tuples containing gene name and ENSEMBL Identifiers\n",
    "#\n",
    "# Output\n",
    "# -----------\n",
    "# A knowledge graph with decorated edges for \n",
    "# P(survival_time > 1000 | RAF1 = Mutated, BRAF = Mutated)\n",
    "# and description containing sensitive patients dump\n",
    "\n",
    "def buildQuery(genes):\n",
    "    # empty response\n",
    "    response = { \"query_graph\": dict(),\n",
    "                 \"knowledge_graph\": dict(),\n",
    "                 \"response\": dict()\n",
    "               }\n",
    "\n",
    "    # empty query graph\n",
    "    response[\"query_graph\"] = { \"edges\": [],\n",
    "                                \"nodes\": []\n",
    "                              }\n",
    "\n",
    "    # empty knowledge graph\n",
    "    response[\"knowledge_graph\"] = { \"edges\": [],\n",
    "                                    \"nodes\": []\n",
    "                                  }\n",
    "\n",
    "    # empty response graph\n",
    "    response[\"results\"] = { \"node_bindings\": [],\n",
    "                            \"edge_bindings\": []\n",
    "                          }\n",
    "\n",
    "    # nodes\n",
    "    nodeCount = 0\n",
    "    # edges\n",
    "    edgeCount = 0\n",
    "\n",
    "    # add in evidence genes\n",
    "    \n",
    "    for g in genes:\n",
    "        response['query_graph']['nodes'].append({ 'id':'n{}'.format(nodeCount),\n",
    "                                                  'type':'Gene',\n",
    "                                                  'name':'{}'.format(g[0]),\n",
    "                                                  'curie':'{}'.format(g[1])\n",
    "                                               })\n",
    "        nodeCount += 1\n",
    "\n",
    "    # grouping for genes\n",
    "    response['query_graph']['nodes'].append({ 'id':'n{}'.format(nodeCount),\n",
    "                                              'type':'gene_grouping'\n",
    "                                           })\n",
    "    nodeCount += 1\n",
    "    \n",
    "    # link genes over grouping\n",
    "    for n in response['query_graph']['nodes'][:-1]:\n",
    "        response['query_graph']['edges'].append({ 'id':'e{}'.format(edgeCount),\n",
    "                                                  'type':'part_of',\n",
    "                                                  'curie':['SEMMEDDB:PART_OF'],\n",
    "                                                  'source_id':n['id'],\n",
    "                                                  'target_id':'n{}'.format(nodeCount-1)\n",
    "                                               })\n",
    "        edgeCount += 1\n",
    "\n",
    "    # patient node\n",
    "    response['query_graph']['nodes'].append({ 'id':'n{}'.format(nodeCount),\n",
    "                                              'type':'patient',\n",
    "                                              'curie':['UMLSSC:T101']\n",
    "                                           })\n",
    "    nodeCount += 1\n",
    "\n",
    "    # link gene group to patient\n",
    "    response['query_graph']['edges'].append({ 'id':'e{}'.format(edgeCount),\n",
    "                                              'type':'expressed_in',\n",
    "                                              'curie':['RO:0002206'],\n",
    "                                              'source_id':'n{}'.format(nodeCount-2),\n",
    "                                              'target_id':'n{}'.format(nodeCount-1)\n",
    "                                           })\n",
    "    edgeCount += 1\n",
    "\n",
    "    # survival node\n",
    "    response['query_graph']['nodes'].append({ 'id': 'n{}'.format(nodeCount),\n",
    "                                              'type': 'PhenotypicFeature',\n",
    "                                              'curie': 'CHPDART:SURVIVAL',\n",
    "                                              'operator': '>=',\n",
    "                                              'value': '1000'\n",
    "                                           })\n",
    "    nodeCount += 1\n",
    "\n",
    "    # link patient to survival\n",
    "    response['query_graph']['edges'].append({ 'id':'e{}'.format(edgeCount),\n",
    "                                              'type':'has_phenotype',\n",
    "                                              'source_id':'n{}'.format(nodeCount-2),\n",
    "                                              'target_id':'n{}'.format(nodeCount-1)\n",
    "                                           })\n",
    "    edgeCount += 1\n",
    "\n",
    "    # BKB target\n",
    "    response['probability_targets'] = [('Survival_Time', '>=', 1000)]\n",
    "\n",
    "    return response"
   ]
  },
  {
   "cell_type": "code",
   "execution_count": 3,
   "metadata": {},
   "outputs": [],
   "source": [
    "def readGenes():\n",
    "    with open('gene_curie_map.csv', 'r') as gene_file:\n",
    "        reader = csv.reader(gene_file)\n",
    "        next(reader)\n",
    "        rows = [row for row in reader]\n",
    "    return rows"
   ]
  },
  {
   "cell_type": "code",
   "execution_count": 6,
   "metadata": {
    "scrolled": false
   },
   "outputs": [
    {
     "name": "stdout",
     "output_type": "stream",
     "text": [
      "Probability of survival > 1000 days is: 0.3173173173173173\n"
     ]
    }
   ],
   "source": [
    "# list of genes we can query over\n",
    "#gene_list = readGenes()\n",
    "#print(gene_list)\n",
    "\n",
    "# or pull from available list above\n",
    "genes = [('RAF1','ENSEMBL:ENSG00000132155'),('BRAF','ENSEMBL:ENSG00000157764')]\n",
    "\n",
    "response = buildQuery(genes)\n",
    "response['reasoner_id'] = 'unsecret'\n",
    "payload = {'query': response}\n",
    "r = requests.post('http://chp.thayer.dartmouth.edu/submitQuery/', json=payload)\n",
    "chp_res = json.loads(r.content)\n",
    "\n",
    "QG = chp_res['query_graph']\n",
    "KG = chp_res['knowledge_graph']\n",
    "res = chp_res['results']\n",
    "\n",
    "#sensitive patients\n",
    "KG_result_node = res['node_bindings'][0]['kg_id']\n",
    "for node in KG['nodes']:\n",
    "    if node['id'] == KG_result_node:\n",
    "        sensitive_patients = node['Description']\n",
    "        p_survival = node['has_confidence_level']\n",
    "        \n",
    "# probability of surival given QG specification\n",
    "print(\"Probability of survival > 1000 days is:\", p_survival)"
   ]
  },
  {
   "cell_type": "markdown",
   "metadata": {},
   "source": [
    "Our dictionary of sensitive patients is broken into two categories given our target question - P(survival_time > 1000). Below we gather our patient as those that were sensitive to the truth assignment of P(survival_time > 1000) and the false assignment. We also demonstrate how you can extract patient level data."
   ]
  },
  {
   "cell_type": "code",
   "execution_count": 7,
   "metadata": {},
   "outputs": [
    {
     "name": "stdout",
     "output_type": "stream",
     "text": [
      "dict_keys(['TCGA-5L-AAT1', 'TCGA-GM-A2DO', 'TCGA-AO-A0JC', 'TCGA-OL-A5RW', 'TCGA-E2-A150'])\n",
      "dict_keys(['Patient_ID', 'Cancer_Type', 'Patient_Genes', 'Patient_Gene_Variants', 'Patient_Variants', 'Patient_Gene_Reads', 'Age_of_Diagnosis', 'Gender', 'PathT', 'PathN', 'PathM', 'Survival_Time', 'Drug_Name(s)', 'Biological_Object(s)', 'Process_Activity(s)', 'Process_Type(s)', 'Patient_Gene_Variant'])\n",
      "['TAMOXIFEN']\n"
     ]
    }
   ],
   "source": [
    "true_sensitive_patients = sensitive_patients['A = l']['Survival_Time >= 1000 = True']\n",
    "false_sensitive_patients = sensitive_patients['A = l']['Survival_Time >= 1000 = False']\n",
    "\n",
    "# patient IDs are the keys to access the patient data\n",
    "print(true_sensitive_patients.keys())\n",
    "# each patient has the following information\n",
    "print(true_sensitive_patients['TCGA-GM-A2DO'].keys())\n",
    "# here we index the drugs TCGA-GM-A2DO was given\n",
    "print(true_sensitive_patients['TCGA-GM-A2DO']['Drug_Name(s)'])"
   ]
  },
  {
   "cell_type": "code",
   "execution_count": null,
   "metadata": {},
   "outputs": [],
   "source": []
  }
 ],
 "metadata": {
  "kernelspec": {
   "display_name": "Python 3",
   "language": "python",
   "name": "python3"
  },
  "language_info": {
   "codemirror_mode": {
    "name": "ipython",
    "version": 3
   },
   "file_extension": ".py",
   "mimetype": "text/x-python",
   "name": "python",
   "nbconvert_exporter": "python",
   "pygments_lexer": "ipython3",
   "version": "3.8.3"
  }
 },
 "nbformat": 4,
 "nbformat_minor": 2
}
