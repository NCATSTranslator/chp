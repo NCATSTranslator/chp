{
 "cells": [
  {
   "cell_type": "code",
   "execution_count": 27,
   "metadata": {},
   "outputs": [],
   "source": [
    "import requests\n",
    "import json\n",
    "import networkx\n",
    "\n",
    "# import modules from biothings_explorer\n",
    "from biothings_explorer.hint import Hint\n",
    "from biothings_explorer.user_query_dispatcher import FindConnection"
   ]
  },
  {
   "cell_type": "markdown",
   "metadata": {},
   "source": [
    "## Step 1: Find your representations\n",
    "The first step of the integration is naturally doing all of your stuff. We are going to try to find a BREAST CANCER -- GENE -- DRUG connection and calculate probabilites of survival time greater than a year using real-world TCGA data to rank your proposed connections.\n",
    "\n",
    "For simplicity of calculation, we are going to fix the drug to explore, i.e. Tamoxifen and focus on the gene. It should also be noted that currently the probabilities are not accurate and should not be taken as actual evidence of a connection. This notebook and our current implementation are only for integration and demostration purposes. "
   ]
  },
  {
   "cell_type": "code",
   "execution_count": 2,
   "metadata": {},
   "outputs": [],
   "source": [
    "ht = Hint()\n",
    "hint = ht.query(\"tamoxifen\")\n",
    "tamoxifen = hint['ChemicalSubstance'][0]"
   ]
  },
  {
   "cell_type": "code",
   "execution_count": 3,
   "metadata": {},
   "outputs": [],
   "source": [
    "hint = ht.query('breast cancer')\n",
    "breast_cancer = hint['Disease'][0]"
   ]
  },
  {
   "cell_type": "code",
   "execution_count": 4,
   "metadata": {},
   "outputs": [],
   "source": [
    "fc = FindConnection(input_obj=breast_cancer, output_obj=tamoxifen, intermediate_nodes=['Gene'])"
   ]
  },
  {
   "cell_type": "code",
   "execution_count": 5,
   "metadata": {},
   "outputs": [],
   "source": [
    "fc.connect()"
   ]
  },
  {
   "cell_type": "code",
   "execution_count": 6,
   "metadata": {},
   "outputs": [],
   "source": [
    "#-- Now we export to Reasoner Std API\n",
    "reasoner_std = fc.to_reasoner_std()"
   ]
  },
  {
   "cell_type": "markdown",
   "metadata": {},
   "source": [
    "## Step 2: Add the Probability targets as a top-level property to Reasoner Std\n",
    "Now we will add some fields to the Reasoner Std dictionary (JSON) to let the CHP what probability targets we want to analyze and return."
   ]
  },
  {
   "cell_type": "code",
   "execution_count": 10,
   "metadata": {},
   "outputs": [],
   "source": [
    "reasoner_std['probability_targets'] = [('Survival', '>=', '365')]\n",
    "reasoner_std['reasoner_id'] = 'explorer'"
   ]
  },
  {
   "cell_type": "code",
   "execution_count": 22,
   "metadata": {},
   "outputs": [],
   "source": [
    "#-- Now lets package the query and sent it to the CHP API endpoint.\n",
    "payload = {'query': reasoner_std}\n",
    "r = requests.post('http://127.0.0.1:8000/submitQuery/', json=payload)"
   ]
  },
  {
   "cell_type": "markdown",
   "metadata": {},
   "source": [
    "## Step 3: Parse Content and Understand Results\n",
    "The reponse of the CHP is returned in Reasoner Std API format. The CHP resposne leaves the Query Graph unchanged and decorates the Knowledge Graph with associated probabilties specified in the probability targets, in this case, Survival. Further, the results are recollected to form a complete subgraph of the knowledge graph (i.e. an instantiation of a DISEASE - GENE - DRUG tuple).\n",
    "\n",
    "However, in the current implementation you must search a little bit for the full decorated result graph. Here we show how to do it. "
   ]
  },
  {
   "cell_type": "code",
   "execution_count": 23,
   "metadata": {},
   "outputs": [],
   "source": [
    "chp_resp = json.loads(r.content)"
   ]
  },
  {
   "cell_type": "markdown",
   "metadata": {},
   "source": [
    "We will extract the first result, i.e. the first node and edge binding along with this new object call probability_target_edges:\n"
   ]
  },
  {
   "cell_type": "code",
   "execution_count": 24,
   "metadata": {},
   "outputs": [],
   "source": [
    "node_bindings1 = chp_resp['results']['node_bindings'][0]\n",
    "edge_bindings1 = chp_resp['results']['edge_bindings'][0]\n",
    "probability_target_edges = chp_resp['results']['probability_target_edges'][0]"
   ]
  },
  {
   "cell_type": "code",
   "execution_count": 25,
   "metadata": {},
   "outputs": [],
   "source": [
    "#-- Now get all the edges related to the result\n",
    "complete_result_edges = set()\n",
    "#-- First the edges in the edge_bindings.\n",
    "for _, kedge_ls in result1[1].items():\n",
    "    complete_result_edges.add(kedge_ls[0])\n",
    "#-- Next the edges in the probabilty target edges\n",
    "complete_result_edges.update(probability_target_edges)"
   ]
  },
  {
   "cell_type": "markdown",
   "metadata": {},
   "source": [
    "### Let's put this all in a NetworkX Graph so we can visualize the result"
   ]
  },
  {
   "cell_type": "code",
   "execution_count": 31,
   "metadata": {},
   "outputs": [],
   "source": [
    "#-- First let's hash the KG edges and nodes by there IDs\n",
    "kedges = {edge['id']: edge for edge in chp_resp['knowledge_graph']['edges']}\n",
    "knodes = {node['id']: node for node in chp_resp['knowledge_graph']['nodes']}"
   ]
  },
  {
   "cell_type": "code",
   "execution_count": 32,
   "metadata": {},
   "outputs": [],
   "source": [
    "G = networkx.DiGraph()\n",
    "for edge in complete_result_edges:\n",
    "    source_node = knodes[kedges[edge]['source_id']]\n",
    "    target_node = knodes[kedges[edge]['target_id']]\n",
    "    G.add_node(source_node['id'], attr_dict=source_node)\n",
    "    G.add_node(target_node['id'], attr_dict=target_node)\n",
    "    G.add_edge(source_node['id'], target_node['id'])"
   ]
  },
  {
   "cell_type": "code",
   "execution_count": 44,
   "metadata": {},
   "outputs": [
    {
     "data": {
      "text/plain": [
       "{'name:breast cancer': 'BREAST CANCER',\n",
       " '8d8e2e4c-e219-4524-a184-4aef7c85bfb2': 'Survival >= 365 = False',\n",
       " 'name:tamoxifen': 'TAMOXIFEN',\n",
       " 'SYMBOL:BCAR4': 'BREAST CANCER ANTI-ESTROGEN RESISTANCE 4',\n",
       " '36700aea-e6c0-4a6c-9445-0adb9af192a4': 'Survival >= 365 = True'}"
      ]
     },
     "execution_count": 44,
     "metadata": {},
     "output_type": "execute_result"
    }
   ],
   "source": [
    "#-- Extract Labels\n",
    "labels = {}\n",
    "for node_info in G.nodes(data=True):\n",
    "    labels[node_info[0]] = node_info[1]['attr_dict']['name']"
   ]
  },
  {
   "cell_type": "code",
   "execution_count": 46,
   "metadata": {},
   "outputs": [
    {
     "data": {
      "image/png": "[encoded data removed]",
      "text/plain": [
       "<Figure size 432x288 with 1 Axes>"
      ]
     },
     "metadata": {},
     "output_type": "display_data"
    }
   ],
   "source": [
    "networkx.draw_networkx(G,\n",
    "                       pos=networkx.spring_layout(G),\n",
    "                       labels=labels)"
   ]
  },
  {
   "cell_type": "code",
   "execution_count": 52,
   "metadata": {},
   "outputs": [
    {
     "name": "stdout",
     "output_type": "stream",
     "text": [
      "Probability of Survival >= 365 = False is 0.1501437755430285\n",
      "Probability of Survival >= 365 = True is 0.25750915247627804\n"
     ]
    }
   ],
   "source": [
    "#-- Print out associated probabilities\n",
    "for node_info in G.nodes(data=True):\n",
    "    if node_info[1]['attr_dict']['type'] == 'probability':\n",
    "        print('Probability of {} is {}'.format(node_info[1]['attr_dict']['name'],\n",
    "                                               node_info[1]['attr_dict']['node_attributes'][0]['value']))"
   ]
  }
 ],
 "metadata": {
  "kernelspec": {
   "display_name": "Python 3",
   "language": "python",
   "name": "python3"
  },
  "language_info": {
   "codemirror_mode": {
    "name": "ipython",
    "version": 3
   },
   "file_extension": ".py",
   "mimetype": "text/x-python",
   "name": "python",
   "nbconvert_exporter": "python",
   "pygments_lexer": "ipython3",
   "version": "3.8.3"
  }
 },
 "nbformat": 4,
 "nbformat_minor": 4
}
