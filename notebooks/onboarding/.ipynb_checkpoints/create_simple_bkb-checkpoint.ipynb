{
 "cells": [
  {
   "cell_type": "markdown",
   "metadata": {},
   "source": [
    "# Tutorial for creating a simple Bayesian Knowledge Base\n",
    "\n",
    "Here you will learn how to formulate/fuse over a bayesian knowledge base (BKB), as well as learn what is and is not a valid BKB. This tutorial will NOT cover fusion over BKB fragments or inferencing over a BKB!!! Please refer to the other tutorial that cover this content."
   ]
  },
  {
   "cell_type": "markdown",
   "metadata": {},
   "source": [
    "## 1.) Import necessary python packages\n",
    "\n",
    "This packages are python translations of the c++ BKB code. These translations exists within the c++ git under c++/BKBs/PythonBKB, although they have been formed into the submodule pybkb for the NCATS bkb-pathway-provider git.\n",
    "\n",
    "For this tutorial we will be using the python file bayesianKnowledgeBase, and importing the following classes:<br>\n",
    "bayesianKnowledgeBase<br>\n",
    "BKB_S_node<br>\n",
    "BKB_component<br>\n",
    "BKB_I_node<br>\n",
    "<br>\n",
    "IPython.display is unrelated to the BKB code but is used to display images in this tutorial."
   ]
  },
  {
   "cell_type": "code",
   "execution_count": 19,
   "metadata": {},
   "outputs": [],
   "source": [
    "from pybkb.pybkb.common.bayesianKnowledgeBase import bayesianKnowledgeBase as BKB\n",
    "from pybkb.pybkb.common.bayesianKnowledgeBase import BKB_S_node, BKB_component, BKB_I_node\n",
    "\n",
    "from IPython.display import Image"
   ]
  },
  {
   "cell_type": "markdown",
   "metadata": {},
   "source": [
    "## 2.) Construct BKB\n",
    "\n",
    "We will construct a BKB according to the following example bayesian network:<br>\n",
    "![title](resources/wet_grass_BN.PNG)<br>\n",
    "### 2.1) First construct our base BKB class"
   ]
  },
  {
   "cell_type": "code",
   "execution_count": 20,
   "metadata": {},
   "outputs": [],
   "source": [
    "wet_grass_BKB = BKB(name='wet_grass')"
   ]
  },
  {
   "cell_type": "markdown",
   "metadata": {},
   "source": [
    "### 2.2) Construct our I-Nodes\n",
    "I-nodes represent a random variable (r.v.) that can take on an instantiation. In this case our r.v.s can be instantiation as True/False."
   ]
  },
  {
   "cell_type": "code",
   "execution_count": 21,
   "metadata": {},
   "outputs": [],
   "source": [
    "cloud_comp_idx = wet_grass_BKB.addComponent('cloud')\n",
    "sprinkler_comp_idx = wet_grass_BKB.addComponent('sprinkler')\n",
    "rain_comp_idx = wet_grass_BKB.addComponent('rain')\n",
    "wet_grass_comp_idx = wet_grass_BKB.addComponent('wet_grass')"
   ]
  },
  {
   "cell_type": "markdown",
   "metadata": {},
   "source": [
    "### 2.3) Provide instantiations that I-Nodes can take on\n",
    "*NOTE here that instationations don't have to take on True/False but can be On/Off, or some other categorical assignment like color"
   ]
  },
  {
   "cell_type": "code",
   "execution_count": 22,
   "metadata": {},
   "outputs": [],
   "source": [
    "cloud_state_true_idx = wet_grass_BKB.addComponentState(cloud_comp_idx, 'True')\n",
    "cloud_state_false_idx = wet_grass_BKB.addComponentState(cloud_comp_idx, 'False')\n",
    "\n",
    "# component states don't have to be True/False, they can be On/Off, or have many component states (i.e. red/blue/green)\n",
    "sprinkler_state_on_idx = wet_grass_BKB.addComponentState(sprinkler_comp_idx, 'On')\n",
    "sprinkler_state_off_idx = wet_grass_BKB.addComponentState(sprinkler_comp_idx, 'Off')\n",
    "\n",
    "rain_state_true_idx = wet_grass_BKB.addComponentState(rain_comp_idx, 'True')\n",
    "rain_state_false_idx = wet_grass_BKB.addComponentState(rain_comp_idx, 'False')\n",
    "\n",
    "wet_grass_state_true_idx = wet_grass_BKB.addComponentState(wet_grass_comp_idx, 'True')\n",
    "wet_grass_state_false_idx = wet_grass_BKB.addComponentState(wet_grass_comp_idx, 'False')"
   ]
  },
  {
   "cell_type": "markdown",
   "metadata": {},
   "source": [
    "### 2.4) Construct S-Nodes\n",
    "\n",
    "S-Nodes maintain probabilities. For our cloud I-Node that is easy as on a given day there is a 50% chance of it being cloudy and 50% to not. Once we create the S-Node we add it to our BKB. An S-Node MUST have a Head Node. In this case that is our Cloud I-Node. S-Nodes can have multiple Tail Nodes (or none). In this case our Cloud I-Node is not dependent on any of our other I-Nodes so its S-Node has no Tail I-Nodes. Notice we must explicity state both our True and False instantiation of our Head Node."
   ]
  },
  {
   "cell_type": "code",
   "execution_count": 23,
   "metadata": {},
   "outputs": [
    {
     "data": {
      "text/plain": [
       "True"
      ]
     },
     "execution_count": 23,
     "metadata": {},
     "output_type": "execute_result"
    }
   ],
   "source": [
    "cloud_SNode_True = BKB_S_node(cloud_comp_idx, cloud_state_true_idx, 0.5)\n",
    "cloud_SNode_False = BKB_S_node(cloud_comp_idx, cloud_state_false_idx, 0.5)\n",
    "\n",
    "wet_grass_BKB.addSNode(cloud_SNode_True)\n",
    "wet_grass_BKB.addSNode(cloud_SNode_False)"
   ]
  },
  {
   "cell_type": "markdown",
   "metadata": {},
   "source": [
    "For our Sprinkler and Rain I-Node, these S-Nodes are more complicated as they are both dependent upon it being cloudy. We form these conditional probabilities in the fourth arguement of our BKB_S_node constructor as Tail Nodes. S-Node probabilities are taken from the above image. Notice that like the Head Node component, we must explicitly state their instantiation assignment. Because our Head Node is binary and is dependent on our binary Tail Node, we have 4 explicity assignments here TT, TF, FT and FF. We do the same for our Rain Component."
   ]
  },
  {
   "cell_type": "code",
   "execution_count": 24,
   "metadata": {},
   "outputs": [
    {
     "data": {
      "text/plain": [
       "True"
      ]
     },
     "execution_count": 24,
     "metadata": {},
     "output_type": "execute_result"
    }
   ],
   "source": [
    "Sprinkler_SNode_TT = BKB_S_node(sprinkler_comp_idx, sprinkler_state_on_idx, 0.1, [(cloud_comp_idx, cloud_state_true_idx)])\n",
    "Sprinkler_SNode_TF = BKB_S_node(sprinkler_comp_idx, sprinkler_state_on_idx, 0.5, [(cloud_comp_idx, cloud_state_false_idx)])\n",
    "Sprinkler_SNode_FT = BKB_S_node(sprinkler_comp_idx, sprinkler_state_off_idx, 0.9, [(cloud_comp_idx, cloud_state_true_idx)])\n",
    "Sprinkler_SNode_FF = BKB_S_node(sprinkler_comp_idx, sprinkler_state_off_idx, 0.5, [(cloud_comp_idx, cloud_state_false_idx)])\n",
    "\n",
    "wet_grass_BKB.addSNode(Sprinkler_SNode_TT)\n",
    "wet_grass_BKB.addSNode(Sprinkler_SNode_TF)\n",
    "wet_grass_BKB.addSNode(Sprinkler_SNode_FT)\n",
    "wet_grass_BKB.addSNode(Sprinkler_SNode_FF)\n",
    "\n",
    "Rain_SNode_TT = BKB_S_node(rain_comp_idx, rain_state_true_idx, 0.8, [(cloud_comp_idx, cloud_state_true_idx)])\n",
    "Rain_SNode_TF = BKB_S_node(rain_comp_idx, rain_state_true_idx, 0.2, [(cloud_comp_idx, cloud_state_false_idx)])\n",
    "Rain_SNode_FT = BKB_S_node(rain_comp_idx, rain_state_false_idx, 0.2, [(cloud_comp_idx, cloud_state_true_idx)])\n",
    "Rain_SNode_FF = BKB_S_node(rain_comp_idx, rain_state_false_idx, 0.8, [(cloud_comp_idx, cloud_state_false_idx)])\n",
    "\n",
    "wet_grass_BKB.addSNode(Rain_SNode_TT)\n",
    "wet_grass_BKB.addSNode(Rain_SNode_TF)\n",
    "wet_grass_BKB.addSNode(Rain_SNode_FT)\n",
    "wet_grass_BKB.addSNode(Rain_SNode_FF)\n"
   ]
  },
  {
   "cell_type": "markdown",
   "metadata": {},
   "source": [
    "Finally our Wet_Grass I-Node is dependent on TWO factors, Sprinkler and Rain. Our fourth argument for the BKB_S_node constructor is just a list so we simply include BOTH of these factors here. Because our Head Node is dependant on TWO Tail Nodes, and all three I-Nodes are binary we have 8 instantiations. TTT, TTF, TFT, TFF, FTT, FTF, FFT, FFF."
   ]
  },
  {
   "cell_type": "code",
   "execution_count": 25,
   "metadata": {},
   "outputs": [
    {
     "data": {
      "text/plain": [
       "True"
      ]
     },
     "execution_count": 25,
     "metadata": {},
     "output_type": "execute_result"
    }
   ],
   "source": [
    "Wet_Grass_SNode_TTT = BKB_S_node(wet_grass_comp_idx, wet_grass_state_true_idx, 0.99, [(sprinkler_comp_idx, sprinkler_state_on_idx),\n",
    "                                                                                      (rain_comp_idx, rain_state_true_idx)])\n",
    "Wet_Grass_SNode_TTF = BKB_S_node(wet_grass_comp_idx, wet_grass_state_true_idx, 0.9, [(sprinkler_comp_idx, sprinkler_state_on_idx),\n",
    "                                                                                      (rain_comp_idx, rain_state_false_idx)])\n",
    "Wet_Grass_SNode_TFT = BKB_S_node(wet_grass_comp_idx, wet_grass_state_true_idx, 0.9, [(sprinkler_comp_idx, sprinkler_state_off_idx),\n",
    "                                                                                      (rain_comp_idx, rain_state_true_idx)])\n",
    "Wet_Grass_SNode_TFF = BKB_S_node(wet_grass_comp_idx, wet_grass_state_true_idx, 0.0, [(sprinkler_comp_idx, sprinkler_state_off_idx),\n",
    "                                                                                      (rain_comp_idx, rain_state_false_idx)])\n",
    "Wet_Grass_SNode_FTT = BKB_S_node(wet_grass_comp_idx, wet_grass_state_false_idx, 0.01, [(sprinkler_comp_idx, sprinkler_state_on_idx),\n",
    "                                                                                      (rain_comp_idx, rain_state_true_idx)])\n",
    "Wet_Grass_SNode_FTF = BKB_S_node(wet_grass_comp_idx, wet_grass_state_false_idx, 0.1, [(sprinkler_comp_idx, sprinkler_state_on_idx),\n",
    "                                                                                      (rain_comp_idx, rain_state_false_idx)])\n",
    "Wet_Grass_SNode_FFT = BKB_S_node(wet_grass_comp_idx, wet_grass_state_false_idx, 0.1, [(sprinkler_comp_idx, sprinkler_state_off_idx),\n",
    "                                                                                      (rain_comp_idx, rain_state_true_idx)])\n",
    "Wet_Grass_SNode_FFF = BKB_S_node(wet_grass_comp_idx, wet_grass_state_false_idx, 1.0, [(sprinkler_comp_idx, sprinkler_state_off_idx),\n",
    "                                                                                      (rain_comp_idx, rain_state_false_idx)])\n",
    "\n",
    "wet_grass_BKB.addSNode(Wet_Grass_SNode_TTT)\n",
    "wet_grass_BKB.addSNode(Wet_Grass_SNode_TTF)\n",
    "wet_grass_BKB.addSNode(Wet_Grass_SNode_TFT)\n",
    "wet_grass_BKB.addSNode(Wet_Grass_SNode_TFF)\n",
    "wet_grass_BKB.addSNode(Wet_Grass_SNode_FTT)\n",
    "wet_grass_BKB.addSNode(Wet_Grass_SNode_FTF)\n",
    "wet_grass_BKB.addSNode(Wet_Grass_SNode_FFT)\n",
    "wet_grass_BKB.addSNode(Wet_Grass_SNode_FFF)"
   ]
  },
  {
   "cell_type": "markdown",
   "metadata": {},
   "source": [
    "### 2.5) Let's visualized what we've made\n",
    "The BKB class has its own graphing function. Let's see what our BKB looks like"
   ]
  },
  {
   "cell_type": "code",
   "execution_count": 26,
   "metadata": {},
   "outputs": [
    {
     "name": "stderr",
     "output_type": "stream",
     "text": [
      "*c* argument looks like a single numeric RGB or RGBA sequence, which should be avoided as value-mapping will have precedence in case its length matches with *x* & *y*.  Please use the *color* keyword-argument or provide a 2-D array with a single row if you intend to specify the same RGB or RGBA value for all points.\n"
     ]
    },
    {
     "data": {
      "image/png": "[encoded data removed]",
      "text/plain": [
       "<Figure size 432x288 with 1 Axes>"
      ]
     },
     "metadata": {},
     "output_type": "display_data"
    }
   ],
   "source": [
    "wet_grass_BKB_figure = wet_grass_BKB.makeGraph(show=True)"
   ]
  },
  {
   "cell_type": "markdown",
   "metadata": {},
   "source": [
    "## 3.) Import additional package\n",
    "We will import two more packages, one for reasoning which will now allow us to inference our constructed BKB, and another for checking Mutaul exclusivity of  our BKB."
   ]
  },
  {
   "cell_type": "code",
   "execution_count": 27,
   "metadata": {},
   "outputs": [],
   "source": [
    "from pybkb.pybkb.python_base.reasoning import updating, checkMutex"
   ]
  },
  {
   "cell_type": "markdown",
   "metadata": {},
   "source": [
    "## 4.) Construct our evidence and target.\n",
    "Evidence is a dictionary where the key is the I-Node name, and output is the r.v. instantiation. In this example we provide evidence that Rain = False. Our target is just a list of I-Node names. In this case we only have one I-Node that we care about - wet_grass."
   ]
  },
  {
   "cell_type": "code",
   "execution_count": 28,
   "metadata": {},
   "outputs": [],
   "source": [
    "evidence = dict()\n",
    "evidence['rain'] = 'False'\n",
    "\n",
    "target = ['wet_grass']"
   ]
  },
  {
   "cell_type": "markdown",
   "metadata": {},
   "source": [
    "## 5.) Run updating and print results\n",
    "Updating finds all possible worlds where the evidence is met and sums them together (like you might sum all leaf nodes in a decision tree that meet some specification). Determined results are NOT normalized, although you can produced normalized probabilities as shown below. The question we are asking here is, \"What is the probability distribution of wet_grass given that rain is false?\"<br>\n",
    "Mathematically this can be formulated as:<br>\n",
    "\\begin{equation*}\n",
    "P(wet\\_grass | rain=False)\n",
    "\\end{equation*}\n"
   ]
  },
  {
   "cell_type": "code",
   "execution_count": 29,
   "metadata": {},
   "outputs": [
    {
     "name": "stdout",
     "output_type": "stream",
     "text": [
      "Not normalized\n",
      "wet_grass\n",
      "\n",
      "\tFalse = 0.31100000000000005\n",
      "\n",
      "\tTrue = 0.18900000000000003\n",
      "\n",
      "Normalized\n",
      "wet_grass\n",
      "\n",
      "\tFalse = 0.622\n",
      "\n",
      "\tTrue = 0.37799999999999995\n",
      "\n"
     ]
    }
   ],
   "source": [
    "res = updating(wet_grass_BKB,\n",
    "               evidence,\n",
    "               target)\n",
    "# not normalized\n",
    "print(\"Not normalized\")\n",
    "for comp_name, state_prob_dict in res.process_updates(False).items():\n",
    "    print('{}\\n'.format(comp_name))\n",
    "    for state_name, prob in state_prob_dict.items():\n",
    "        print('\\t{} = {}\\n'.format(state_name, prob))\n",
    "        \n",
    "# normalized  \n",
    "print(\"Normalized\")\n",
    "for comp_name, state_prob_dict in res.process_updates(True).items():\n",
    "    print('{}\\n'.format(comp_name))\n",
    "    for state_name, prob in state_prob_dict.items():\n",
    "        print('\\t{} = {}\\n'.format(state_name, prob))"
   ]
  },
  {
   "cell_type": "markdown",
   "metadata": {},
   "source": [
    "Lets run another update, but we will also set sprinkler=Off in addition to rain=False."
   ]
  },
  {
   "cell_type": "code",
   "execution_count": 30,
   "metadata": {},
   "outputs": [
    {
     "name": "stdout",
     "output_type": "stream",
     "text": [
      "Not normalized\n",
      "wet_grass\n",
      "\n",
      "\tFalse = 0.29000000000000004\n",
      "\n",
      "\tTrue = -1\n",
      "\n",
      "Normalized\n",
      "wet_grass\n",
      "\n",
      "\tFalse = 1.0\n",
      "\n",
      "\tTrue = 0\n",
      "\n"
     ]
    }
   ],
   "source": [
    "evidence['sprinkler'] = 'Off'\n",
    "\n",
    "res = updating(wet_grass_BKB,\n",
    "               evidence,\n",
    "               target)\n",
    "# not normalized\n",
    "print(\"Not normalized\")\n",
    "for comp_name, state_prob_dict in res.process_updates(False).items():\n",
    "    print('{}\\n'.format(comp_name))\n",
    "    for state_name, prob in state_prob_dict.items():\n",
    "        print('\\t{} = {}\\n'.format(state_name, prob))\n",
    "        \n",
    "# normalized  \n",
    "print(\"Normalized\")\n",
    "for comp_name, state_prob_dict in res.process_updates(True).items():\n",
    "    print('{}\\n'.format(comp_name))\n",
    "    for state_name, prob in state_prob_dict.items():\n",
    "        print('\\t{} = {}\\n'.format(state_name, prob))"
   ]
  },
  {
   "cell_type": "markdown",
   "metadata": {},
   "source": [
    "## 6.) Let's check if our BKB is Mutually Exclusive\n",
    "\n",
    "Usually this is something that you might check first before reasoning to make sure your BKB is sound. To understand why a BKB needs to satisfy mutual exclusivity lets start with the defition of a Correlation Graph\n",
    "\n",
    "***Definition*** A Correlation Graph G(I $\\cup$ S,E) is a directed graph such that I $\\cap$ S =  $\\emptyset$, E $\\subset$ {IxS}$\\cup${SxI}, and $\\forall$q $\\in$ S, there exists a unique $\\alpha \\in$ E. If there is a link from q $\\in$ S to $\\alpha \\in$ I, we say that q supports $\\alpha$.\n",
    "\n",
    "Here edges are considered correlations. There can be many q in suport of $\\alpha$, but there are some rules, namely they must maintain mutual exclusivity.\n",
    "\n",
    "Two sets of I-Nodes $I_{1}$ and $I_{2}$ are said to be mutually exclusive if there is an I-Node (R=$v_{1}$) in $I_{1}$ and an I-node (R=$v_{2}$) in $I_{2}$ with $v_{1} \\neq v_{2}$. This sums up to that the two sets cannot be satisfiable at the same time (i.e. Rain = True and Rain = False can not be in the same inference). Similarly two S-Nodes are called mutually exlusive if the tail sets of both S-Nodes are mutually exclusive.\n",
    "\n",
    "Now for the Definition of a BKB:\n",
    "\n",
    "***Definition*** A BKB is a tuple K=(G,w) where G=(I $\\cup$ S,E) is a correlation-graph, and w: S$\\rightarrow$[0,1] such that:<br>\n",
    "    1.) $\\forall$q$\\in$S, the Tail of q contains at most one instantiation of each random variable.<br>\n",
    "    2.) For distinct S-Nodes, $q_{1}, q_{2} \\in$S that support the same I-Node, the tail of $q_{1}$ and $q_{2}$ are mutually exclusive.<br>\n",
    "    3.) For Q$\\subseteq$S such that (i) the head of $q_{1}$ and the head of $q_{2}$ are mutually exclusive and (ii) the tail of $q_{1}$ and the tail of $q_{2}$ are not mutually exclusive, for all $q_{1}$ and $q_{2}$ in Q,\n",
    "    \n",
    "$$\\sum_{q \\in Q} w(q) \\leq 1$$\n",
    "\n",
    "\n",
    "Lucky for you code exists that does this for you!\n",
    "    \n",
    "\n"
   ]
  },
  {
   "cell_type": "code",
   "execution_count": 31,
   "metadata": {},
   "outputs": [
    {
     "name": "stderr",
     "output_type": "stream",
     "text": [
      "Component testing:   0%|          | 0/4 [00:00<?, ?it/s]\n",
      "I-Node testing:   0%|          | 0/2 [00:00<?, ?it/s]\u001b[A\n",
      "\n",
      "S-Node check:   0%|          | 0/1 [00:00<?, ?it/s]\u001b[A\u001b[A\n",
      "\n",
      "\n",
      "...: 0it [00:00, ?it/s]\u001b[A\u001b[A\u001b[A\n",
      "\n",
      "\n",
      "                       \u001b[A\u001b[A\u001b[A\n",
      "\n",
      "                                                   \u001b[A\u001b[A\n",
      "\n",
      "S-Node check:   0%|          | 0/1 [00:00<?, ?it/s]\u001b[A\u001b[A\n",
      "\n",
      "\n",
      "...: 0it [00:00, ?it/s]\u001b[A\u001b[A\u001b[A\n",
      "\n",
      "\n",
      "                       \u001b[A\u001b[A\u001b[A\n",
      "\n",
      "                                                   \u001b[A\u001b[A\n",
      "                                                     \u001b[A\n",
      "I-Node testing:   0%|          | 0/2 [00:00<?, ?it/s]\u001b[A\n",
      "\n",
      "S-Node check:   0%|          | 0/2 [00:00<?, ?it/s]\u001b[A\u001b[A\n",
      "\n",
      "\n",
      "...:   0%|          | 0/1 [00:00<?, ?it/s]\u001b[A\u001b[A\u001b[A\n",
      "\n",
      "\n",
      "                                          \u001b[A\u001b[A\u001b[A\n",
      "\n",
      "\n",
      "...: 0it [00:00, ?it/s]\u001b[A\u001b[A\u001b[A\n",
      "\n",
      "\n",
      "                       \u001b[A\u001b[A\u001b[A\n",
      "\n",
      "                                                   \u001b[A\u001b[A\n",
      "\n",
      "S-Node check:   0%|          | 0/2 [00:00<?, ?it/s]\u001b[A\u001b[A\n",
      "\n",
      "\n",
      "...:   0%|          | 0/1 [00:00<?, ?it/s]\u001b[A\u001b[A\u001b[A\n",
      "\n",
      "\n",
      "                                          \u001b[A\u001b[A\u001b[A\n",
      "\n",
      "\n",
      "...: 0it [00:00, ?it/s]\u001b[A\u001b[A\u001b[A\n",
      "\n",
      "\n",
      "                       \u001b[A\u001b[A\u001b[A\n",
      "\n",
      "                                                   \u001b[A\u001b[A\n",
      "                                                     \u001b[A\n",
      "I-Node testing:   0%|          | 0/2 [00:00<?, ?it/s]\u001b[A\n",
      "\n",
      "S-Node check:   0%|          | 0/2 [00:00<?, ?it/s]\u001b[A\u001b[A\n",
      "\n",
      "\n",
      "...:   0%|          | 0/1 [00:00<?, ?it/s]\u001b[A\u001b[A\u001b[A\n",
      "\n",
      "\n",
      "                                          \u001b[A\u001b[A\u001b[A\n",
      "\n",
      "\n",
      "...: 0it [00:00, ?it/s]\u001b[A\u001b[A\u001b[A\n",
      "\n",
      "\n",
      "                       \u001b[A\u001b[A\u001b[A\n",
      "\n",
      "                                                   \u001b[A\u001b[A\n",
      "\n",
      "S-Node check:   0%|          | 0/2 [00:00<?, ?it/s]\u001b[A\u001b[A\n",
      "\n",
      "\n",
      "...:   0%|          | 0/1 [00:00<?, ?it/s]\u001b[A\u001b[A\u001b[A\n",
      "\n",
      "\n",
      "                                          \u001b[A\u001b[A\u001b[A\n",
      "\n",
      "\n",
      "...: 0it [00:00, ?it/s]\u001b[A\u001b[A\u001b[A\n",
      "\n",
      "\n",
      "                       \u001b[A\u001b[A\u001b[A\n",
      "\n",
      "                                                   \u001b[A\u001b[A\n",
      "                                                     \u001b[A\n",
      "I-Node testing:   0%|          | 0/2 [00:00<?, ?it/s]\u001b[A\n",
      "\n",
      "S-Node check:   0%|          | 0/3 [00:00<?, ?it/s]\u001b[A\u001b[A\n",
      "\n",
      "\n",
      "...:   0%|          | 0/2 [00:00<?, ?it/s]\u001b[A\u001b[A\u001b[A\n",
      "\n",
      "\n",
      "                                          \u001b[A\u001b[A\u001b[A\n",
      "\n",
      "\n",
      "...:   0%|          | 0/1 [00:00<?, ?it/s]\u001b[A\u001b[A\u001b[A\n",
      "\n",
      "\n",
      "                                          \u001b[A\u001b[A\u001b[A\n",
      "\n",
      "\n",
      "...: 0it [00:00, ?it/s]\u001b[A\u001b[A\u001b[A\n",
      "\n",
      "\n",
      "                       \u001b[A\u001b[A\u001b[A\n",
      "\n",
      "                                                   \u001b[A\u001b[A\n",
      "\n",
      "S-Node check:   0%|          | 0/4 [00:00<?, ?it/s]\u001b[A\u001b[A\n",
      "\n",
      "\n",
      "...:   0%|          | 0/3 [00:00<?, ?it/s]\u001b[A\u001b[A\u001b[A\n",
      "\n",
      "\n",
      "                                          \u001b[A\u001b[A\u001b[A\n",
      "\n",
      "\n",
      "...:   0%|          | 0/2 [00:00<?, ?it/s]\u001b[A\u001b[A\u001b[A\n",
      "\n",
      "\n",
      "                                          \u001b[A\u001b[A\u001b[A\n",
      "\n",
      "\n",
      "...:   0%|          | 0/1 [00:00<?, ?it/s]\u001b[A\u001b[A\u001b[A\n",
      "\n",
      "\n",
      "                                          \u001b[A\u001b[A\u001b[A\n",
      "\n",
      "\n",
      "...: 0it [00:00, ?it/s]\u001b[A\u001b[A\u001b[A\n",
      "\n",
      "\n",
      "                       \u001b[A\u001b[A\u001b[A\n",
      "\n",
      "                                                   \u001b[A\u001b[A\n",
      "Component testing: 100%|██████████| 4/4 [00:00<00:00, 31.09it/s]"
     ]
    },
    {
     "name": "stdout",
     "output_type": "stream",
     "text": [
      "\t...elapsed time = 0.13203930854797363\n"
     ]
    },
    {
     "name": "stderr",
     "output_type": "stream",
     "text": [
      "\n"
     ]
    },
    {
     "data": {
      "text/plain": [
       "True"
      ]
     },
     "execution_count": 31,
     "metadata": {},
     "output_type": "execute_result"
    }
   ],
   "source": [
    "checkMutex(wet_grass_BKB)\n",
    "# will spew a lot of text, no need to worry as mutex errors will provide text such as 'x is not mutually exlusive with y'"
   ]
  },
  {
   "cell_type": "markdown",
   "metadata": {},
   "source": [
    "## 7.) Let's break our BKB!\n",
    "\n",
    "Normally you are putting together BKBs where the distribution is incomplete. In the example above we know the full distributions, so its easier to see how all the pieces add to 1, but that isn't always the case. This can get especially confusing when working with BKB fragments that will be introduced in a different tutorial. For now the simplest way to produce a mutex error is to produce probabilitys that are > 1. Lets form our original BKB, but alter the S-Node Values"
   ]
  },
  {
   "cell_type": "code",
   "execution_count": 32,
   "metadata": {},
   "outputs": [
    {
     "name": "stderr",
     "output_type": "stream",
     "text": [
      "*c* argument looks like a single numeric RGB or RGBA sequence, which should be avoided as value-mapping will have precedence in case its length matches with *x* & *y*.  Please use the *color* keyword-argument or provide a 2-D array with a single row if you intend to specify the same RGB or RGBA value for all points.\n"
     ]
    },
    {
     "data": {
      "image/png": "[encoded data removed]",
      "text/plain": [
       "<Figure size 432x288 with 1 Axes>"
      ]
     },
     "metadata": {},
     "output_type": "display_data"
    }
   ],
   "source": [
    "# Problem - we've added another world from the rain component that allows the wet grass component to sum > 1\n",
    "problem_Wet_Grass = BKB_S_node(wet_grass_comp_idx, wet_grass_state_true_idx, .5, [(rain_comp_idx, rain_state_true_idx)])\n",
    "wet_grass_BKB.addSNode(problem_Wet_Grass)\n",
    "# Let's see what this looks like -- there should be another arrow from rain = True\n",
    "wet_grass_BKB_figure = wet_grass_BKB.makeGraph(show=True)"
   ]
  },
  {
   "cell_type": "markdown",
   "metadata": {},
   "source": [
    "Let's check the mutex on our new problem BKB"
   ]
  },
  {
   "cell_type": "code",
   "execution_count": 33,
   "metadata": {},
   "outputs": [
    {
     "name": "stderr",
     "output_type": "stream",
     "text": [
      "Component testing:   0%|          | 0/4 [00:00<?, ?it/s]\n",
      "I-Node testing:   0%|          | 0/2 [00:00<?, ?it/s]\u001b[A\n",
      "\n",
      "S-Node check:   0%|          | 0/1 [00:00<?, ?it/s]\u001b[A\u001b[A\n",
      "\n",
      "\n",
      "...: 0it [00:00, ?it/s]\u001b[A\u001b[A\u001b[A\n",
      "\n",
      "\n",
      "                       \u001b[A\u001b[A\u001b[A\n",
      "\n",
      "                                                   \u001b[A\u001b[A\n",
      "\n",
      "S-Node check:   0%|          | 0/1 [00:00<?, ?it/s]\u001b[A\u001b[A\n",
      "\n",
      "\n",
      "...: 0it [00:00, ?it/s]\u001b[A\u001b[A\u001b[A\n",
      "\n",
      "\n",
      "                       \u001b[A\u001b[A\u001b[A\n",
      "\n",
      "                                                   \u001b[A\u001b[A\n",
      "                                                     \u001b[A\n",
      "I-Node testing:   0%|          | 0/2 [00:00<?, ?it/s]\u001b[A\n",
      "\n",
      "S-Node check:   0%|          | 0/2 [00:00<?, ?it/s]\u001b[A\u001b[A\n",
      "\n",
      "\n",
      "...:   0%|          | 0/1 [00:00<?, ?it/s]\u001b[A\u001b[A\u001b[A\n",
      "\n",
      "\n",
      "                                          \u001b[A\u001b[A\u001b[A\n",
      "\n",
      "\n",
      "...: 0it [00:00, ?it/s]\u001b[A\u001b[A\u001b[A\n",
      "\n",
      "\n",
      "                       \u001b[A\u001b[A\u001b[A\n",
      "\n",
      "                                                   \u001b[A\u001b[A\n",
      "\n",
      "S-Node check:   0%|          | 0/2 [00:00<?, ?it/s]\u001b[A\u001b[A\n",
      "\n",
      "\n",
      "...:   0%|          | 0/1 [00:00<?, ?it/s]\u001b[A\u001b[A\u001b[A\n",
      "\n",
      "\n",
      "                                          \u001b[A\u001b[A\u001b[A\n",
      "\n",
      "\n",
      "...: 0it [00:00, ?it/s]\u001b[A\u001b[A\u001b[A\n",
      "\n",
      "\n",
      "                       \u001b[A\u001b[A\u001b[A\n",
      "\n",
      "                                                   \u001b[A\u001b[A\n",
      "                                                     \u001b[A\n",
      "I-Node testing:   0%|          | 0/2 [00:00<?, ?it/s]\u001b[A\n",
      "\n",
      "S-Node check:   0%|          | 0/2 [00:00<?, ?it/s]\u001b[A\u001b[A\n",
      "\n",
      "\n",
      "...:   0%|          | 0/1 [00:00<?, ?it/s]\u001b[A\u001b[A\u001b[A\n",
      "\n",
      "\n",
      "                                          \u001b[A\u001b[A\u001b[A\n",
      "\n",
      "\n",
      "...: 0it [00:00, ?it/s]\u001b[A\u001b[A\u001b[A\n",
      "\n",
      "\n",
      "                       \u001b[A\u001b[A\u001b[A\n",
      "\n",
      "                                                   \u001b[A\u001b[A\n",
      "\n",
      "S-Node check:   0%|          | 0/2 [00:00<?, ?it/s]\u001b[A\u001b[A\n",
      "\n",
      "\n",
      "...:   0%|          | 0/1 [00:00<?, ?it/s]\u001b[A\u001b[A\u001b[A\n",
      "\n",
      "\n",
      "                                          \u001b[A\u001b[A\u001b[A\n",
      "\n",
      "\n",
      "...: 0it [00:00, ?it/s]\u001b[A\u001b[A\u001b[A\n",
      "\n",
      "\n",
      "                       \u001b[A\u001b[A\u001b[A\n",
      "\n",
      "                                                   \u001b[A\u001b[A\n",
      "Component testing:  75%|███████▌  | 3/4 [00:00<00:00, 29.24it/s]\n",
      "I-Node testing:   0%|          | 0/2 [00:00<?, ?it/s]\u001b[A\n",
      "\n",
      "S-Node check:   0%|          | 0/4 [00:00<?, ?it/s]\u001b[A\u001b[A\n",
      "\n",
      "\n",
      "...:   0%|          | 0/3 [00:00<?, ?it/s]\u001b[A\u001b[A\u001b[A\n",
      "\n",
      "\n",
      "                                          \u001b[A\u001b[A\u001b[A\n",
      "\n",
      "\n",
      "...:   0%|          | 0/2 [00:00<?, ?it/s]\u001b[A\u001b[A\u001b[A\n",
      "\n",
      "\n",
      "                                          \u001b[A\u001b[A\u001b[A\n",
      "\n",
      "\n",
      "...:   0%|          | 0/1 [00:00<?, ?it/s]\u001b[A\u001b[A\u001b[A\n",
      "\n",
      "\n",
      "                                          \u001b[A\u001b[A\u001b[A\n",
      "\n",
      "\n",
      "...: 0it [00:00, ?it/s]\u001b[A\u001b[A\u001b[A\n",
      "\n",
      "\n",
      "                       \u001b[A\u001b[A\u001b[A\n",
      "\n",
      "                                                   \u001b[A\u001b[A\n",
      "\n",
      "S-Node check:   0%|          | 0/4 [00:00<?, ?it/s]\u001b[A\u001b[A\n",
      "\n",
      "\n",
      "...:   0%|          | 0/3 [00:00<?, ?it/s]\u001b[A\u001b[A\u001b[A\n",
      "\n",
      "\n",
      "                                          \u001b[A\u001b[A\u001b[A\n",
      "\n",
      "\n",
      "...:   0%|          | 0/2 [00:00<?, ?it/s]\u001b[A\u001b[A\u001b[A\n",
      "\n",
      "\n",
      "                                          \u001b[A\u001b[A\u001b[A\n",
      "\n",
      "\n",
      "...:   0%|          | 0/1 [00:00<?, ?it/s]\u001b[A\u001b[A\u001b[A\n",
      "\n",
      "\n",
      "                                          \u001b[A\u001b[A\u001b[A\n",
      "\n",
      "\n",
      "...: 0it [00:00, ?it/s]\u001b[A\u001b[A\u001b[A\n",
      "\n",
      "\n",
      "                       \u001b[A\u001b[A\u001b[A\n",
      "\n",
      "                                                   \u001b[A\u001b[A\n",
      "Component testing: 100%|██████████| 4/4 [00:00<00:00, 22.77it/s]"
     ]
    },
    {
     "name": "stdout",
     "output_type": "stream",
     "text": [
      "-------------------------------------------------------------------\n",
      "S-Node #0\n",
      "<rain> = <True> \t( 0.5 ) ==> <wet_grass> = <True>\n",
      "\t+++ not mutually exclusive with +++\n",
      "S-Node #2\n",
      "<sprinkler> = <Off> <rain> = <True> \t( 0.9 ) ==> <wet_grass> = <True>\n",
      "-------------------------------------------------------------------\n",
      "-------------------------------------------------------------------\n",
      "S-Node #0\n",
      "<rain> = <True> \t( 0.5 ) ==> <wet_grass> = <True>\n",
      "\t+++ not mutually exclusive with +++\n",
      "S-Node #3\n",
      "<sprinkler> = <On> <rain> = <True> \t( 0.99 ) ==> <wet_grass> = <True>\n",
      "-------------------------------------------------------------------\n",
      "\t...elapsed time = 0.17850184440612793\n"
     ]
    },
    {
     "name": "stderr",
     "output_type": "stream",
     "text": [
      "\n"
     ]
    },
    {
     "data": {
      "text/plain": [
       "False"
      ]
     },
     "execution_count": 33,
     "metadata": {},
     "output_type": "execute_result"
    }
   ],
   "source": [
    "checkMutex(wet_grass_BKB)"
   ]
  },
  {
   "cell_type": "code",
   "execution_count": null,
   "metadata": {},
   "outputs": [],
   "source": []
  }
 ],
 "metadata": {
  "kernelspec": {
   "display_name": "ncats38",
   "language": "python",
   "name": "ncats38"
  },
  "language_info": {
   "codemirror_mode": {
    "name": "ipython",
    "version": 3
   },
   "file_extension": ".py",
   "mimetype": "text/x-python",
   "name": "python",
   "nbconvert_exporter": "python",
   "pygments_lexer": "ipython3",
   "version": "3.8.3"
  }
 },
 "nbformat": 4,
 "nbformat_minor": 4
}
